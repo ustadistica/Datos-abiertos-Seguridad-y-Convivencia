{
 "cells": [
  {
   "cell_type": "markdown",
   "id": "9465477b",
   "metadata": {},
   "source": [
    "# Union de bases"
   ]
  },
  {
   "cell_type": "code",
   "execution_count": 4,
   "id": "b040508b",
   "metadata": {},
   "outputs": [
    {
     "name": "stdout",
     "output_type": "stream",
     "text": [
      "Requirement already satisfied: unidecode in c:\\users\\kevin\\miniconda3\\lib\\site-packages (1.4.0)\n",
      "Note: you may need to restart the kernel to use updated packages.\n",
      "Collecting xlrd\n",
      "  Downloading xlrd-2.0.2-py2.py3-none-any.whl.metadata (3.5 kB)\n",
      "Downloading xlrd-2.0.2-py2.py3-none-any.whl (96 kB)\n",
      "Installing collected packages: xlrd\n",
      "Successfully installed xlrd-2.0.2\n",
      "Note: you may need to restart the kernel to use updated packages.\n"
     ]
    }
   ],
   "source": [
    "%pip install unidecode\n",
    "%pip install xlrd\n"
   ]
  },
  {
   "cell_type": "code",
   "execution_count": 1,
   "id": "f25e5e1e",
   "metadata": {},
   "outputs": [
    {
     "name": "stdout",
     "output_type": "stream",
     "text": [
      "Descargando: ABIGEATO -> https://www.policia.gov.co/sites/default/files/delitos-impacto/Hurto%20a%20cabezas%20de%20ganado2024_0.xlsx\n"
     ]
    },
    {
     "name": "stderr",
     "output_type": "stream",
     "text": [
      "C:\\Users\\kevin\\AppData\\Local\\Temp\\ipykernel_18120\\4077439092.py:70: UserWarning: This pattern is interpreted as a regular expression, and has match groups. To actually get the groups, use str.extract.\n",
      "  m_total = row_text.str.contains(r\"(^|\\s)total(\\s|:|$)\", regex=True)\n"
     ]
    },
    {
     "name": "stdout",
     "output_type": "stream",
     "text": [
      "Descargando: ABIGEATO -> https://www.policia.gov.co/sites/default/files/delitos-impacto/hurto%20cabezas%20de%20ganado.._0.xlsx\n"
     ]
    },
    {
     "name": "stderr",
     "output_type": "stream",
     "text": [
      "C:\\Users\\kevin\\AppData\\Local\\Temp\\ipykernel_18120\\4077439092.py:70: UserWarning: This pattern is interpreted as a regular expression, and has match groups. To actually get the groups, use str.extract.\n",
      "  m_total = row_text.str.contains(r\"(^|\\s)total(\\s|:|$)\", regex=True)\n"
     ]
    },
    {
     "name": "stdout",
     "output_type": "stream",
     "text": [
      "Descargando: ABIGEATO -> https://www.policia.gov.co/sites/default/files/delitos-impacto/abigeato.xls_2.xlsx\n"
     ]
    },
    {
     "name": "stderr",
     "output_type": "stream",
     "text": [
      "C:\\Users\\kevin\\AppData\\Local\\Temp\\ipykernel_18120\\4077439092.py:70: UserWarning: This pattern is interpreted as a regular expression, and has match groups. To actually get the groups, use str.extract.\n",
      "  m_total = row_text.str.contains(r\"(^|\\s)total(\\s|:|$)\", regex=True)\n"
     ]
    },
    {
     "name": "stdout",
     "output_type": "stream",
     "text": [
      "Descargando: ABIGEATO -> https://www.policia.gov.co/sites/default/files/delitos-impacto/abigeato_6.xls\n"
     ]
    },
    {
     "name": "stderr",
     "output_type": "stream",
     "text": [
      "C:\\Users\\kevin\\AppData\\Local\\Temp\\ipykernel_18120\\4077439092.py:70: UserWarning: This pattern is interpreted as a regular expression, and has match groups. To actually get the groups, use str.extract.\n",
      "  m_total = row_text.str.contains(r\"(^|\\s)total(\\s|:|$)\", regex=True)\n"
     ]
    },
    {
     "name": "stdout",
     "output_type": "stream",
     "text": [
      "Descargando: ABIGEATO -> https://www.policia.gov.co/sites/default/files/delitos-impacto/abigeato_2020.xls\n"
     ]
    },
    {
     "name": "stderr",
     "output_type": "stream",
     "text": [
      "C:\\Users\\kevin\\AppData\\Local\\Temp\\ipykernel_18120\\4077439092.py:70: UserWarning: This pattern is interpreted as a regular expression, and has match groups. To actually get the groups, use str.extract.\n",
      "  m_total = row_text.str.contains(r\"(^|\\s)total(\\s|:|$)\", regex=True)\n"
     ]
    },
    {
     "name": "stdout",
     "output_type": "stream",
     "text": [
      "Descargando: ABIGEATO -> https://www.policia.gov.co/sites/default/files/delitos-impacto/abigeato_2019_3.xlsx\n"
     ]
    },
    {
     "name": "stderr",
     "output_type": "stream",
     "text": [
      "C:\\Users\\kevin\\AppData\\Local\\Temp\\ipykernel_18120\\4077439092.py:70: UserWarning: This pattern is interpreted as a regular expression, and has match groups. To actually get the groups, use str.extract.\n",
      "  m_total = row_text.str.contains(r\"(^|\\s)total(\\s|:|$)\", regex=True)\n"
     ]
    },
    {
     "name": "stdout",
     "output_type": "stream",
     "text": [
      "Descargando: ABIGEATO -> https://www.policia.gov.co/sites/default/files/delitos-impacto/abigeato_2018_2.xlsx\n"
     ]
    },
    {
     "name": "stderr",
     "output_type": "stream",
     "text": [
      "C:\\Users\\kevin\\AppData\\Local\\Temp\\ipykernel_18120\\4077439092.py:70: UserWarning: This pattern is interpreted as a regular expression, and has match groups. To actually get the groups, use str.extract.\n",
      "  m_total = row_text.str.contains(r\"(^|\\s)total(\\s|:|$)\", regex=True)\n"
     ]
    },
    {
     "name": "stdout",
     "output_type": "stream",
     "text": [
      "Descargando: AMENAZAS -> https://www.policia.gov.co/sites/default/files/delitos-impacto/Amenazas2024_0.xlsx\n"
     ]
    },
    {
     "name": "stderr",
     "output_type": "stream",
     "text": [
      "C:\\Users\\kevin\\AppData\\Local\\Temp\\ipykernel_18120\\4077439092.py:70: UserWarning: This pattern is interpreted as a regular expression, and has match groups. To actually get the groups, use str.extract.\n",
      "  m_total = row_text.str.contains(r\"(^|\\s)total(\\s|:|$)\", regex=True)\n"
     ]
    },
    {
     "name": "stdout",
     "output_type": "stream",
     "text": [
      "Descargando: AMENAZAS -> https://www.policia.gov.co/sites/default/files/delitos-impacto/amenzas..xlsx\n"
     ]
    },
    {
     "name": "stderr",
     "output_type": "stream",
     "text": [
      "C:\\Users\\kevin\\AppData\\Local\\Temp\\ipykernel_18120\\4077439092.py:70: UserWarning: This pattern is interpreted as a regular expression, and has match groups. To actually get the groups, use str.extract.\n",
      "  m_total = row_text.str.contains(r\"(^|\\s)total(\\s|:|$)\", regex=True)\n"
     ]
    },
    {
     "name": "stdout",
     "output_type": "stream",
     "text": [
      "Descargando: AMENAZAS -> https://www.policia.gov.co/sites/default/files/delitos-impacto/amenazas_13.xls\n"
     ]
    },
    {
     "name": "stderr",
     "output_type": "stream",
     "text": [
      "C:\\Users\\kevin\\AppData\\Local\\Temp\\ipykernel_18120\\4077439092.py:70: UserWarning: This pattern is interpreted as a regular expression, and has match groups. To actually get the groups, use str.extract.\n",
      "  m_total = row_text.str.contains(r\"(^|\\s)total(\\s|:|$)\", regex=True)\n"
     ]
    },
    {
     "name": "stdout",
     "output_type": "stream",
     "text": [
      "Descargando: AMENAZAS -> https://www.policia.gov.co/sites/default/files/delitos-impacto/amenazas_11.xls\n"
     ]
    },
    {
     "name": "stderr",
     "output_type": "stream",
     "text": [
      "C:\\Users\\kevin\\AppData\\Local\\Temp\\ipykernel_18120\\4077439092.py:70: UserWarning: This pattern is interpreted as a regular expression, and has match groups. To actually get the groups, use str.extract.\n",
      "  m_total = row_text.str.contains(r\"(^|\\s)total(\\s|:|$)\", regex=True)\n"
     ]
    },
    {
     "name": "stdout",
     "output_type": "stream",
     "text": [
      "Descargando: AMENAZAS -> https://www.policia.gov.co/sites/default/files/delitos-impacto/amenazas_2020.xlsx\n"
     ]
    },
    {
     "name": "stderr",
     "output_type": "stream",
     "text": [
      "C:\\Users\\kevin\\AppData\\Local\\Temp\\ipykernel_18120\\4077439092.py:70: UserWarning: This pattern is interpreted as a regular expression, and has match groups. To actually get the groups, use str.extract.\n",
      "  m_total = row_text.str.contains(r\"(^|\\s)total(\\s|:|$)\", regex=True)\n"
     ]
    },
    {
     "name": "stdout",
     "output_type": "stream",
     "text": [
      "Descargando: AMENAZAS -> https://www.policia.gov.co/sites/default/files/delitos-impacto/amenazas_2019_1.xlsx\n"
     ]
    },
    {
     "name": "stderr",
     "output_type": "stream",
     "text": [
      "C:\\Users\\kevin\\AppData\\Local\\Temp\\ipykernel_18120\\4077439092.py:70: UserWarning: This pattern is interpreted as a regular expression, and has match groups. To actually get the groups, use str.extract.\n",
      "  m_total = row_text.str.contains(r\"(^|\\s)total(\\s|:|$)\", regex=True)\n"
     ]
    },
    {
     "name": "stdout",
     "output_type": "stream",
     "text": [
      "Descargando: AMENAZAS -> https://www.policia.gov.co/sites/default/files/delitos-impacto/amenazas_2018_1.xlsx\n"
     ]
    },
    {
     "name": "stderr",
     "output_type": "stream",
     "text": [
      "C:\\Users\\kevin\\AppData\\Local\\Temp\\ipykernel_18120\\4077439092.py:70: UserWarning: This pattern is interpreted as a regular expression, and has match groups. To actually get the groups, use str.extract.\n",
      "  m_total = row_text.str.contains(r\"(^|\\s)total(\\s|:|$)\", regex=True)\n"
     ]
    },
    {
     "name": "stdout",
     "output_type": "stream",
     "text": [
      "Descargando: DELITOS SEXUALES -> https://www.policia.gov.co/sites/default/files/delitos-impacto/Delitos%20sexuales2024_0.xlsx\n"
     ]
    },
    {
     "name": "stderr",
     "output_type": "stream",
     "text": [
      "C:\\Users\\kevin\\AppData\\Local\\Temp\\ipykernel_18120\\4077439092.py:70: UserWarning: This pattern is interpreted as a regular expression, and has match groups. To actually get the groups, use str.extract.\n",
      "  m_total = row_text.str.contains(r\"(^|\\s)total(\\s|:|$)\", regex=True)\n"
     ]
    },
    {
     "name": "stdout",
     "output_type": "stream",
     "text": [
      "Descargando: DELITOS SEXUALES -> https://www.policia.gov.co/sites/default/files/delitos-impacto/delitos%20sexuales.xlsx\n"
     ]
    },
    {
     "name": "stderr",
     "output_type": "stream",
     "text": [
      "C:\\Users\\kevin\\AppData\\Local\\Temp\\ipykernel_18120\\4077439092.py:70: UserWarning: This pattern is interpreted as a regular expression, and has match groups. To actually get the groups, use str.extract.\n",
      "  m_total = row_text.str.contains(r\"(^|\\s)total(\\s|:|$)\", regex=True)\n"
     ]
    },
    {
     "name": "stdout",
     "output_type": "stream",
     "text": [
      "Descargando: DELITOS SEXUALES -> https://www.policia.gov.co/sites/default/files/delitos-impacto/delitos_sexuales_11.xls\n"
     ]
    },
    {
     "name": "stderr",
     "output_type": "stream",
     "text": [
      "C:\\Users\\kevin\\AppData\\Local\\Temp\\ipykernel_18120\\4077439092.py:70: UserWarning: This pattern is interpreted as a regular expression, and has match groups. To actually get the groups, use str.extract.\n",
      "  m_total = row_text.str.contains(r\"(^|\\s)total(\\s|:|$)\", regex=True)\n"
     ]
    },
    {
     "name": "stdout",
     "output_type": "stream",
     "text": [
      "Descargando: DELITOS SEXUALES -> https://www.policia.gov.co/sites/default/files/delitos-impacto/delitos_sexuales_9.xls\n"
     ]
    },
    {
     "name": "stderr",
     "output_type": "stream",
     "text": [
      "C:\\Users\\kevin\\AppData\\Local\\Temp\\ipykernel_18120\\4077439092.py:70: UserWarning: This pattern is interpreted as a regular expression, and has match groups. To actually get the groups, use str.extract.\n",
      "  m_total = row_text.str.contains(r\"(^|\\s)total(\\s|:|$)\", regex=True)\n"
     ]
    },
    {
     "name": "stdout",
     "output_type": "stream",
     "text": [
      "Descargando: DELITOS SEXUALES -> https://www.policia.gov.co/sites/default/files/delitos-impacto/delitos_sexuales_2020.xls\n"
     ]
    },
    {
     "name": "stderr",
     "output_type": "stream",
     "text": [
      "C:\\Users\\kevin\\AppData\\Local\\Temp\\ipykernel_18120\\4077439092.py:70: UserWarning: This pattern is interpreted as a regular expression, and has match groups. To actually get the groups, use str.extract.\n",
      "  m_total = row_text.str.contains(r\"(^|\\s)total(\\s|:|$)\", regex=True)\n"
     ]
    },
    {
     "name": "stdout",
     "output_type": "stream",
     "text": [
      "Descargando: DELITOS SEXUALES -> https://www.policia.gov.co/sites/default/files/delitos-impacto/delitos_sexuales_2019_0.xlsx\n"
     ]
    },
    {
     "name": "stderr",
     "output_type": "stream",
     "text": [
      "C:\\Users\\kevin\\AppData\\Local\\Temp\\ipykernel_18120\\4077439092.py:70: UserWarning: This pattern is interpreted as a regular expression, and has match groups. To actually get the groups, use str.extract.\n",
      "  m_total = row_text.str.contains(r\"(^|\\s)total(\\s|:|$)\", regex=True)\n"
     ]
    },
    {
     "name": "stdout",
     "output_type": "stream",
     "text": [
      "Descargando: DELITOS SEXUALES -> https://www.policia.gov.co/sites/default/files/delitos-impacto/delitos_sexuales_2018_0.xlsx\n"
     ]
    },
    {
     "name": "stderr",
     "output_type": "stream",
     "text": [
      "C:\\Users\\kevin\\AppData\\Local\\Temp\\ipykernel_18120\\4077439092.py:70: UserWarning: This pattern is interpreted as a regular expression, and has match groups. To actually get the groups, use str.extract.\n",
      "  m_total = row_text.str.contains(r\"(^|\\s)total(\\s|:|$)\", regex=True)\n"
     ]
    },
    {
     "name": "stdout",
     "output_type": "stream",
     "text": [
      "Descargando: EXTORSION -> https://www.policia.gov.co/sites/default/files/delitos-impacto/Extorsi%C3%B3n2024_0.xlsx\n"
     ]
    },
    {
     "name": "stderr",
     "output_type": "stream",
     "text": [
      "C:\\Users\\kevin\\AppData\\Local\\Temp\\ipykernel_18120\\4077439092.py:70: UserWarning: This pattern is interpreted as a regular expression, and has match groups. To actually get the groups, use str.extract.\n",
      "  m_total = row_text.str.contains(r\"(^|\\s)total(\\s|:|$)\", regex=True)\n"
     ]
    },
    {
     "name": "stdout",
     "output_type": "stream",
     "text": [
      "Descargando: EXTORSION -> https://www.policia.gov.co/sites/default/files/delitos-impacto/extorsion_11.xlsx\n"
     ]
    },
    {
     "name": "stderr",
     "output_type": "stream",
     "text": [
      "C:\\Users\\kevin\\AppData\\Local\\Temp\\ipykernel_18120\\4077439092.py:70: UserWarning: This pattern is interpreted as a regular expression, and has match groups. To actually get the groups, use str.extract.\n",
      "  m_total = row_text.str.contains(r\"(^|\\s)total(\\s|:|$)\", regex=True)\n"
     ]
    },
    {
     "name": "stdout",
     "output_type": "stream",
     "text": [
      "Descargando: EXTORSION -> https://www.policia.gov.co/sites/default/files/delitos-impacto/extorsion_11.xls\n"
     ]
    },
    {
     "name": "stderr",
     "output_type": "stream",
     "text": [
      "C:\\Users\\kevin\\AppData\\Local\\Temp\\ipykernel_18120\\4077439092.py:70: UserWarning: This pattern is interpreted as a regular expression, and has match groups. To actually get the groups, use str.extract.\n",
      "  m_total = row_text.str.contains(r\"(^|\\s)total(\\s|:|$)\", regex=True)\n"
     ]
    },
    {
     "name": "stdout",
     "output_type": "stream",
     "text": [
      "Descargando: EXTORSION -> https://www.policia.gov.co/sites/default/files/delitos-impacto/extorsion_9.xls\n"
     ]
    },
    {
     "name": "stderr",
     "output_type": "stream",
     "text": [
      "C:\\Users\\kevin\\AppData\\Local\\Temp\\ipykernel_18120\\4077439092.py:70: UserWarning: This pattern is interpreted as a regular expression, and has match groups. To actually get the groups, use str.extract.\n",
      "  m_total = row_text.str.contains(r\"(^|\\s)total(\\s|:|$)\", regex=True)\n"
     ]
    },
    {
     "name": "stdout",
     "output_type": "stream",
     "text": [
      "Descargando: EXTORSION -> https://www.policia.gov.co/sites/default/files/delitos-impacto/extorsion_2020_1.xls\n"
     ]
    },
    {
     "name": "stderr",
     "output_type": "stream",
     "text": [
      "C:\\Users\\kevin\\AppData\\Local\\Temp\\ipykernel_18120\\4077439092.py:70: UserWarning: This pattern is interpreted as a regular expression, and has match groups. To actually get the groups, use str.extract.\n",
      "  m_total = row_text.str.contains(r\"(^|\\s)total(\\s|:|$)\", regex=True)\n"
     ]
    },
    {
     "name": "stdout",
     "output_type": "stream",
     "text": [
      "Descargando: EXTORSION -> https://www.policia.gov.co/sites/default/files/delitos-impacto/extorsion_2019_2.xlsx\n"
     ]
    },
    {
     "name": "stderr",
     "output_type": "stream",
     "text": [
      "C:\\Users\\kevin\\AppData\\Local\\Temp\\ipykernel_18120\\4077439092.py:70: UserWarning: This pattern is interpreted as a regular expression, and has match groups. To actually get the groups, use str.extract.\n",
      "  m_total = row_text.str.contains(r\"(^|\\s)total(\\s|:|$)\", regex=True)\n"
     ]
    },
    {
     "name": "stdout",
     "output_type": "stream",
     "text": [
      "Descargando: EXTORSION -> https://www.policia.gov.co/sites/default/files/delitos-impacto/extorsion_2018_3.xlsx\n"
     ]
    },
    {
     "name": "stderr",
     "output_type": "stream",
     "text": [
      "C:\\Users\\kevin\\AppData\\Local\\Temp\\ipykernel_18120\\4077439092.py:70: UserWarning: This pattern is interpreted as a regular expression, and has match groups. To actually get the groups, use str.extract.\n",
      "  m_total = row_text.str.contains(r\"(^|\\s)total(\\s|:|$)\", regex=True)\n"
     ]
    },
    {
     "name": "stdout",
     "output_type": "stream",
     "text": [
      "Descargando: HOMICIDIOS -> https://www.policia.gov.co/sites/default/files/delitos-impacto/Homicidio%20Intencional2024_0.xlsx\n"
     ]
    },
    {
     "name": "stderr",
     "output_type": "stream",
     "text": [
      "C:\\Users\\kevin\\AppData\\Local\\Temp\\ipykernel_18120\\4077439092.py:70: UserWarning: This pattern is interpreted as a regular expression, and has match groups. To actually get the groups, use str.extract.\n",
      "  m_total = row_text.str.contains(r\"(^|\\s)total(\\s|:|$)\", regex=True)\n"
     ]
    },
    {
     "name": "stdout",
     "output_type": "stream",
     "text": [
      "Descargando: HOMICIDIOS -> https://www.policia.gov.co/sites/default/files/delitos-impacto/homicidio%20intencional_0.xlsx\n"
     ]
    },
    {
     "name": "stderr",
     "output_type": "stream",
     "text": [
      "C:\\Users\\kevin\\AppData\\Local\\Temp\\ipykernel_18120\\4077439092.py:70: UserWarning: This pattern is interpreted as a regular expression, and has match groups. To actually get the groups, use str.extract.\n",
      "  m_total = row_text.str.contains(r\"(^|\\s)total(\\s|:|$)\", regex=True)\n"
     ]
    },
    {
     "name": "stdout",
     "output_type": "stream",
     "text": [
      "Descargando: HOMICIDIOS -> https://www.policia.gov.co/sites/default/files/delitos-impacto/Homicidio%20Intencional%202022.xlsx\n"
     ]
    },
    {
     "name": "stderr",
     "output_type": "stream",
     "text": [
      "C:\\Users\\kevin\\AppData\\Local\\Temp\\ipykernel_18120\\4077439092.py:70: UserWarning: This pattern is interpreted as a regular expression, and has match groups. To actually get the groups, use str.extract.\n",
      "  m_total = row_text.str.contains(r\"(^|\\s)total(\\s|:|$)\", regex=True)\n"
     ]
    },
    {
     "name": "stdout",
     "output_type": "stream",
     "text": [
      "Descargando: HOMICIDIOS -> https://www.policia.gov.co/sites/default/files/delitos-impacto/homicidios2022.xls\n"
     ]
    },
    {
     "name": "stderr",
     "output_type": "stream",
     "text": [
      "C:\\Users\\kevin\\AppData\\Local\\Temp\\ipykernel_18120\\4077439092.py:70: UserWarning: This pattern is interpreted as a regular expression, and has match groups. To actually get the groups, use str.extract.\n",
      "  m_total = row_text.str.contains(r\"(^|\\s)total(\\s|:|$)\", regex=True)\n"
     ]
    },
    {
     "name": "stdout",
     "output_type": "stream",
     "text": [
      "Descargando: HOMICIDIOS -> https://www.policia.gov.co/sites/default/files/delitos-impacto/Homicidio%20Intencional%202021.xlsx\n"
     ]
    },
    {
     "name": "stderr",
     "output_type": "stream",
     "text": [
      "C:\\Users\\kevin\\AppData\\Local\\Temp\\ipykernel_18120\\4077439092.py:70: UserWarning: This pattern is interpreted as a regular expression, and has match groups. To actually get the groups, use str.extract.\n",
      "  m_total = row_text.str.contains(r\"(^|\\s)total(\\s|:|$)\", regex=True)\n"
     ]
    },
    {
     "name": "stdout",
     "output_type": "stream",
     "text": [
      "Descargando: HOMICIDIOS -> https://www.policia.gov.co/sites/default/files/delitos-impacto/Homicidio%20Intencional%202020.xlsx\n"
     ]
    },
    {
     "name": "stderr",
     "output_type": "stream",
     "text": [
      "C:\\Users\\kevin\\AppData\\Local\\Temp\\ipykernel_18120\\4077439092.py:70: UserWarning: This pattern is interpreted as a regular expression, and has match groups. To actually get the groups, use str.extract.\n",
      "  m_total = row_text.str.contains(r\"(^|\\s)total(\\s|:|$)\", regex=True)\n"
     ]
    },
    {
     "name": "stdout",
     "output_type": "stream",
     "text": [
      "Descargando: HOMICIDIOS -> https://www.policia.gov.co/sites/default/files/delitos-impacto/Homicidio%20Intencional%202019.xlsx\n"
     ]
    },
    {
     "name": "stderr",
     "output_type": "stream",
     "text": [
      "C:\\Users\\kevin\\AppData\\Local\\Temp\\ipykernel_18120\\4077439092.py:70: UserWarning: This pattern is interpreted as a regular expression, and has match groups. To actually get the groups, use str.extract.\n",
      "  m_total = row_text.str.contains(r\"(^|\\s)total(\\s|:|$)\", regex=True)\n"
     ]
    },
    {
     "name": "stdout",
     "output_type": "stream",
     "text": [
      "Descargando: HOMICIDIOS -> https://www.policia.gov.co/sites/default/files/delitos-impacto/Homicidio%20Intencional%202018.xlsx\n"
     ]
    },
    {
     "name": "stderr",
     "output_type": "stream",
     "text": [
      "C:\\Users\\kevin\\AppData\\Local\\Temp\\ipykernel_18120\\4077439092.py:70: UserWarning: This pattern is interpreted as a regular expression, and has match groups. To actually get the groups, use str.extract.\n",
      "  m_total = row_text.str.contains(r\"(^|\\s)total(\\s|:|$)\", regex=True)\n"
     ]
    },
    {
     "name": "stdout",
     "output_type": "stream",
     "text": [
      "Descargando: HOMICIDIOS EN ACCIDENTES DE TRANSITO -> https://www.policia.gov.co/sites/default/files/delitos-impacto/Homicidios%20en%20accidente%20de%20tr%C3%A1nsito2024_0.xlsx\n"
     ]
    },
    {
     "name": "stderr",
     "output_type": "stream",
     "text": [
      "C:\\Users\\kevin\\AppData\\Local\\Temp\\ipykernel_18120\\4077439092.py:70: UserWarning: This pattern is interpreted as a regular expression, and has match groups. To actually get the groups, use str.extract.\n",
      "  m_total = row_text.str.contains(r\"(^|\\s)total(\\s|:|$)\", regex=True)\n"
     ]
    },
    {
     "name": "stdout",
     "output_type": "stream",
     "text": [
      "Descargando: HOMICIDIOS EN ACCIDENTES DE TRANSITO -> https://www.policia.gov.co/sites/default/files/delitos-impacto/homicidios%20en%20accidente%20de%20transito....xlsx\n"
     ]
    },
    {
     "name": "stderr",
     "output_type": "stream",
     "text": [
      "C:\\Users\\kevin\\AppData\\Local\\Temp\\ipykernel_18120\\4077439092.py:70: UserWarning: This pattern is interpreted as a regular expression, and has match groups. To actually get the groups, use str.extract.\n",
      "  m_total = row_text.str.contains(r\"(^|\\s)total(\\s|:|$)\", regex=True)\n"
     ]
    },
    {
     "name": "stdout",
     "output_type": "stream",
     "text": [
      "Descargando: HOMICIDIOS EN ACCIDENTES DE TRANSITO -> https://www.policia.gov.co/sites/default/files/delitos-impacto/homicidios_en_accidente_de_transito_11.xls\n"
     ]
    },
    {
     "name": "stderr",
     "output_type": "stream",
     "text": [
      "C:\\Users\\kevin\\AppData\\Local\\Temp\\ipykernel_18120\\4077439092.py:70: UserWarning: This pattern is interpreted as a regular expression, and has match groups. To actually get the groups, use str.extract.\n",
      "  m_total = row_text.str.contains(r\"(^|\\s)total(\\s|:|$)\", regex=True)\n"
     ]
    },
    {
     "name": "stdout",
     "output_type": "stream",
     "text": [
      "Descargando: HOMICIDIOS EN ACCIDENTES DE TRANSITO -> https://www.policia.gov.co/sites/default/files/delitos-impacto/homicidios_en_accidente_de_transito_9.xls\n"
     ]
    },
    {
     "name": "stderr",
     "output_type": "stream",
     "text": [
      "C:\\Users\\kevin\\AppData\\Local\\Temp\\ipykernel_18120\\4077439092.py:70: UserWarning: This pattern is interpreted as a regular expression, and has match groups. To actually get the groups, use str.extract.\n",
      "  m_total = row_text.str.contains(r\"(^|\\s)total(\\s|:|$)\", regex=True)\n"
     ]
    },
    {
     "name": "stdout",
     "output_type": "stream",
     "text": [
      "Descargando: HOMICIDIOS EN ACCIDENTES DE TRANSITO -> https://www.policia.gov.co/sites/default/files/delitos-impacto/homicidios_accidente_de_transito_2020_2.xls\n"
     ]
    },
    {
     "name": "stderr",
     "output_type": "stream",
     "text": [
      "C:\\Users\\kevin\\AppData\\Local\\Temp\\ipykernel_18120\\4077439092.py:70: UserWarning: This pattern is interpreted as a regular expression, and has match groups. To actually get the groups, use str.extract.\n",
      "  m_total = row_text.str.contains(r\"(^|\\s)total(\\s|:|$)\", regex=True)\n"
     ]
    },
    {
     "name": "stdout",
     "output_type": "stream",
     "text": [
      "Descargando: HOMICIDIOS EN ACCIDENTES DE TRANSITO -> https://www.policia.gov.co/sites/default/files/delitos-impacto/homicidios_en_accidente_de_transito_2019.xlsx\n"
     ]
    },
    {
     "name": "stderr",
     "output_type": "stream",
     "text": [
      "C:\\Users\\kevin\\AppData\\Local\\Temp\\ipykernel_18120\\4077439092.py:70: UserWarning: This pattern is interpreted as a regular expression, and has match groups. To actually get the groups, use str.extract.\n",
      "  m_total = row_text.str.contains(r\"(^|\\s)total(\\s|:|$)\", regex=True)\n"
     ]
    },
    {
     "name": "stdout",
     "output_type": "stream",
     "text": [
      "Descargando: HOMICIDIOS EN ACCIDENTES DE TRANSITO -> https://www.policia.gov.co/sites/default/files/delitos-impacto/homicidios_en_accidente_de_transito_2018_1.xlsx\n"
     ]
    },
    {
     "name": "stderr",
     "output_type": "stream",
     "text": [
      "C:\\Users\\kevin\\AppData\\Local\\Temp\\ipykernel_18120\\4077439092.py:70: UserWarning: This pattern is interpreted as a regular expression, and has match groups. To actually get the groups, use str.extract.\n",
      "  m_total = row_text.str.contains(r\"(^|\\s)total(\\s|:|$)\", regex=True)\n"
     ]
    },
    {
     "name": "stdout",
     "output_type": "stream",
     "text": [
      "Descargando: HURTO A PERSONAS -> https://www.policia.gov.co/sites/default/files/delitos-impacto/Hurto%20a%20personas2024_0.xlsx\n"
     ]
    },
    {
     "name": "stderr",
     "output_type": "stream",
     "text": [
      "C:\\Users\\kevin\\AppData\\Local\\Temp\\ipykernel_18120\\4077439092.py:70: UserWarning: This pattern is interpreted as a regular expression, and has match groups. To actually get the groups, use str.extract.\n",
      "  m_total = row_text.str.contains(r\"(^|\\s)total(\\s|:|$)\", regex=True)\n"
     ]
    },
    {
     "name": "stdout",
     "output_type": "stream",
     "text": [
      "Descargando: HURTO A PERSONAS -> https://www.policia.gov.co/sites/default/files/delitos-impacto/hurto%20a%20personas.xlsx\n"
     ]
    },
    {
     "name": "stderr",
     "output_type": "stream",
     "text": [
      "C:\\Users\\kevin\\AppData\\Local\\Temp\\ipykernel_18120\\4077439092.py:70: UserWarning: This pattern is interpreted as a regular expression, and has match groups. To actually get the groups, use str.extract.\n",
      "  m_total = row_text.str.contains(r\"(^|\\s)total(\\s|:|$)\", regex=True)\n"
     ]
    },
    {
     "name": "stdout",
     "output_type": "stream",
     "text": [
      "Descargando: HURTO A PERSONAS -> https://www.policia.gov.co/sites/default/files/delitos-impacto/hurto_a_personas_17.xlsx\n"
     ]
    },
    {
     "name": "stderr",
     "output_type": "stream",
     "text": [
      "C:\\Users\\kevin\\AppData\\Local\\Temp\\ipykernel_18120\\4077439092.py:70: UserWarning: This pattern is interpreted as a regular expression, and has match groups. To actually get the groups, use str.extract.\n",
      "  m_total = row_text.str.contains(r\"(^|\\s)total(\\s|:|$)\", regex=True)\n"
     ]
    },
    {
     "name": "stdout",
     "output_type": "stream",
     "text": [
      "Descargando: HURTO A PERSONAS -> https://www.policia.gov.co/sites/default/files/delitos-impacto/hurto_a_personas_9.xlsx\n"
     ]
    },
    {
     "name": "stderr",
     "output_type": "stream",
     "text": [
      "C:\\Users\\kevin\\AppData\\Local\\Temp\\ipykernel_18120\\4077439092.py:70: UserWarning: This pattern is interpreted as a regular expression, and has match groups. To actually get the groups, use str.extract.\n",
      "  m_total = row_text.str.contains(r\"(^|\\s)total(\\s|:|$)\", regex=True)\n"
     ]
    },
    {
     "name": "stdout",
     "output_type": "stream",
     "text": [
      "Descargando: HURTO A PERSONAS -> https://www.policia.gov.co/sites/default/files/delitos-impacto/hurto_personas_2020_0.xlsx\n"
     ]
    },
    {
     "name": "stderr",
     "output_type": "stream",
     "text": [
      "C:\\Users\\kevin\\AppData\\Local\\Temp\\ipykernel_18120\\4077439092.py:70: UserWarning: This pattern is interpreted as a regular expression, and has match groups. To actually get the groups, use str.extract.\n",
      "  m_total = row_text.str.contains(r\"(^|\\s)total(\\s|:|$)\", regex=True)\n"
     ]
    },
    {
     "name": "stdout",
     "output_type": "stream",
     "text": [
      "Descargando: HURTO A PERSONAS -> https://www.policia.gov.co/sites/default/files/delitos-impacto/hurto_a_personas_2019_0.xlsx\n"
     ]
    },
    {
     "name": "stderr",
     "output_type": "stream",
     "text": [
      "C:\\Users\\kevin\\AppData\\Local\\Temp\\ipykernel_18120\\4077439092.py:70: UserWarning: This pattern is interpreted as a regular expression, and has match groups. To actually get the groups, use str.extract.\n",
      "  m_total = row_text.str.contains(r\"(^|\\s)total(\\s|:|$)\", regex=True)\n"
     ]
    },
    {
     "name": "stdout",
     "output_type": "stream",
     "text": [
      "Descargando: HURTO A PERSONAS -> https://www.policia.gov.co/sites/default/files/delitos-impacto/hurto_a_personas_2018_1.xlsx\n"
     ]
    },
    {
     "name": "stderr",
     "output_type": "stream",
     "text": [
      "C:\\Users\\kevin\\AppData\\Local\\Temp\\ipykernel_18120\\4077439092.py:70: UserWarning: This pattern is interpreted as a regular expression, and has match groups. To actually get the groups, use str.extract.\n",
      "  m_total = row_text.str.contains(r\"(^|\\s)total(\\s|:|$)\", regex=True)\n"
     ]
    },
    {
     "name": "stdout",
     "output_type": "stream",
     "text": [
      "Descargando: HURTO A RESIDENCIAS -> https://www.policia.gov.co/sites/default/files/delitos-impacto/Hurto%20a%20residencias2024_0.xlsx\n"
     ]
    },
    {
     "name": "stderr",
     "output_type": "stream",
     "text": [
      "C:\\Users\\kevin\\AppData\\Local\\Temp\\ipykernel_18120\\4077439092.py:70: UserWarning: This pattern is interpreted as a regular expression, and has match groups. To actually get the groups, use str.extract.\n",
      "  m_total = row_text.str.contains(r\"(^|\\s)total(\\s|:|$)\", regex=True)\n"
     ]
    },
    {
     "name": "stdout",
     "output_type": "stream",
     "text": [
      "Descargando: HURTO A RESIDENCIAS -> https://www.policia.gov.co/sites/default/files/delitos-impacto/hurto%20a%20residencias....xlsx\n"
     ]
    },
    {
     "name": "stderr",
     "output_type": "stream",
     "text": [
      "C:\\Users\\kevin\\AppData\\Local\\Temp\\ipykernel_18120\\4077439092.py:70: UserWarning: This pattern is interpreted as a regular expression, and has match groups. To actually get the groups, use str.extract.\n",
      "  m_total = row_text.str.contains(r\"(^|\\s)total(\\s|:|$)\", regex=True)\n"
     ]
    },
    {
     "name": "stdout",
     "output_type": "stream",
     "text": [
      "Descargando: HURTO A RESIDENCIAS -> https://www.policia.gov.co/sites/default/files/delitos-impacto/hurto_a_residencias_4.xls\n"
     ]
    },
    {
     "name": "stderr",
     "output_type": "stream",
     "text": [
      "C:\\Users\\kevin\\AppData\\Local\\Temp\\ipykernel_18120\\4077439092.py:70: UserWarning: This pattern is interpreted as a regular expression, and has match groups. To actually get the groups, use str.extract.\n",
      "  m_total = row_text.str.contains(r\"(^|\\s)total(\\s|:|$)\", regex=True)\n"
     ]
    },
    {
     "name": "stdout",
     "output_type": "stream",
     "text": [
      "Descargando: HURTO A RESIDENCIAS -> https://www.policia.gov.co/sites/default/files/delitos-impacto/hurto_a_residencias_5.xlsx\n"
     ]
    },
    {
     "name": "stderr",
     "output_type": "stream",
     "text": [
      "C:\\Users\\kevin\\AppData\\Local\\Temp\\ipykernel_18120\\4077439092.py:70: UserWarning: This pattern is interpreted as a regular expression, and has match groups. To actually get the groups, use str.extract.\n",
      "  m_total = row_text.str.contains(r\"(^|\\s)total(\\s|:|$)\", regex=True)\n"
     ]
    },
    {
     "name": "stdout",
     "output_type": "stream",
     "text": [
      "Descargando: HURTO A RESIDENCIAS -> https://www.policia.gov.co/sites/default/files/delitos-impacto/hurto_residencias_2020.xls\n"
     ]
    },
    {
     "name": "stderr",
     "output_type": "stream",
     "text": [
      "C:\\Users\\kevin\\AppData\\Local\\Temp\\ipykernel_18120\\4077439092.py:70: UserWarning: This pattern is interpreted as a regular expression, and has match groups. To actually get the groups, use str.extract.\n",
      "  m_total = row_text.str.contains(r\"(^|\\s)total(\\s|:|$)\", regex=True)\n"
     ]
    },
    {
     "name": "stdout",
     "output_type": "stream",
     "text": [
      "Descargando: HURTO A RESIDENCIAS -> https://www.policia.gov.co/sites/default/files/delitos-impacto/hurto_a_residencias_2019_0.xlsx\n"
     ]
    },
    {
     "name": "stderr",
     "output_type": "stream",
     "text": [
      "C:\\Users\\kevin\\AppData\\Local\\Temp\\ipykernel_18120\\4077439092.py:70: UserWarning: This pattern is interpreted as a regular expression, and has match groups. To actually get the groups, use str.extract.\n",
      "  m_total = row_text.str.contains(r\"(^|\\s)total(\\s|:|$)\", regex=True)\n"
     ]
    },
    {
     "name": "stdout",
     "output_type": "stream",
     "text": [
      "Descargando: HURTO A RESIDENCIAS -> https://www.policia.gov.co/sites/default/files/delitos-impacto/hurto_a_residencias_2018_1.xlsx\n"
     ]
    },
    {
     "name": "stderr",
     "output_type": "stream",
     "text": [
      "C:\\Users\\kevin\\AppData\\Local\\Temp\\ipykernel_18120\\4077439092.py:70: UserWarning: This pattern is interpreted as a regular expression, and has match groups. To actually get the groups, use str.extract.\n",
      "  m_total = row_text.str.contains(r\"(^|\\s)total(\\s|:|$)\", regex=True)\n"
     ]
    },
    {
     "name": "stdout",
     "output_type": "stream",
     "text": [
      "Descargando: HURTO DE AUTOMOTORES -> https://www.policia.gov.co/sites/default/files/delitos-impacto/Hurto%20automotores2024_0.xlsx\n"
     ]
    },
    {
     "name": "stderr",
     "output_type": "stream",
     "text": [
      "C:\\Users\\kevin\\AppData\\Local\\Temp\\ipykernel_18120\\4077439092.py:70: UserWarning: This pattern is interpreted as a regular expression, and has match groups. To actually get the groups, use str.extract.\n",
      "  m_total = row_text.str.contains(r\"(^|\\s)total(\\s|:|$)\", regex=True)\n"
     ]
    },
    {
     "name": "stdout",
     "output_type": "stream",
     "text": [
      "Descargando: HURTO DE AUTOMOTORES -> https://www.policia.gov.co/sites/default/files/delitos-impacto/hurto%20automotores....xlsx\n"
     ]
    },
    {
     "name": "stderr",
     "output_type": "stream",
     "text": [
      "C:\\Users\\kevin\\AppData\\Local\\Temp\\ipykernel_18120\\4077439092.py:70: UserWarning: This pattern is interpreted as a regular expression, and has match groups. To actually get the groups, use str.extract.\n",
      "  m_total = row_text.str.contains(r\"(^|\\s)total(\\s|:|$)\", regex=True)\n"
     ]
    },
    {
     "name": "stdout",
     "output_type": "stream",
     "text": [
      "Descargando: HURTO DE AUTOMOTORES -> https://www.policia.gov.co/sites/default/files/delitos-impacto/hurto_automotores_4.xls\n"
     ]
    },
    {
     "name": "stderr",
     "output_type": "stream",
     "text": [
      "C:\\Users\\kevin\\AppData\\Local\\Temp\\ipykernel_18120\\4077439092.py:70: UserWarning: This pattern is interpreted as a regular expression, and has match groups. To actually get the groups, use str.extract.\n",
      "  m_total = row_text.str.contains(r\"(^|\\s)total(\\s|:|$)\", regex=True)\n"
     ]
    },
    {
     "name": "stdout",
     "output_type": "stream",
     "text": [
      "Descargando: HURTO DE AUTOMOTORES -> https://www.policia.gov.co/sites/default/files/delitos-impacto/hurto_automotores_5.xlsx\n"
     ]
    },
    {
     "name": "stderr",
     "output_type": "stream",
     "text": [
      "C:\\Users\\kevin\\AppData\\Local\\Temp\\ipykernel_18120\\4077439092.py:70: UserWarning: This pattern is interpreted as a regular expression, and has match groups. To actually get the groups, use str.extract.\n",
      "  m_total = row_text.str.contains(r\"(^|\\s)total(\\s|:|$)\", regex=True)\n"
     ]
    },
    {
     "name": "stdout",
     "output_type": "stream",
     "text": [
      "Descargando: HURTO DE AUTOMOTORES -> https://www.policia.gov.co/sites/default/files/delitos-impacto/hurto_automotores_2020_1.xls\n"
     ]
    },
    {
     "name": "stderr",
     "output_type": "stream",
     "text": [
      "C:\\Users\\kevin\\AppData\\Local\\Temp\\ipykernel_18120\\4077439092.py:70: UserWarning: This pattern is interpreted as a regular expression, and has match groups. To actually get the groups, use str.extract.\n",
      "  m_total = row_text.str.contains(r\"(^|\\s)total(\\s|:|$)\", regex=True)\n"
     ]
    },
    {
     "name": "stdout",
     "output_type": "stream",
     "text": [
      "Descargando: HURTO DE AUTOMOTORES -> https://www.policia.gov.co/sites/default/files/delitos-impacto/hurto_automotores_2019_0.xlsx\n"
     ]
    },
    {
     "name": "stderr",
     "output_type": "stream",
     "text": [
      "C:\\Users\\kevin\\AppData\\Local\\Temp\\ipykernel_18120\\4077439092.py:70: UserWarning: This pattern is interpreted as a regular expression, and has match groups. To actually get the groups, use str.extract.\n",
      "  m_total = row_text.str.contains(r\"(^|\\s)total(\\s|:|$)\", regex=True)\n"
     ]
    },
    {
     "name": "stdout",
     "output_type": "stream",
     "text": [
      "Descargando: HURTO DE AUTOMOTORES -> https://www.policia.gov.co/sites/default/files/delitos-impacto/hurto_automotores_2018_1.xlsx\n"
     ]
    },
    {
     "name": "stderr",
     "output_type": "stream",
     "text": [
      "C:\\Users\\kevin\\AppData\\Local\\Temp\\ipykernel_18120\\4077439092.py:70: UserWarning: This pattern is interpreted as a regular expression, and has match groups. To actually get the groups, use str.extract.\n",
      "  m_total = row_text.str.contains(r\"(^|\\s)total(\\s|:|$)\", regex=True)\n"
     ]
    },
    {
     "name": "stdout",
     "output_type": "stream",
     "text": [
      "Descargando: HURTO DE AUTOMOTORES -> https://www.policia.gov.co/sites/default/files/delitos-impacto/hurto_automotores_2018_2.xlsx\n"
     ]
    },
    {
     "name": "stderr",
     "output_type": "stream",
     "text": [
      "C:\\Users\\kevin\\AppData\\Local\\Temp\\ipykernel_18120\\4077439092.py:70: UserWarning: This pattern is interpreted as a regular expression, and has match groups. To actually get the groups, use str.extract.\n",
      "  m_total = row_text.str.contains(r\"(^|\\s)total(\\s|:|$)\", regex=True)\n"
     ]
    },
    {
     "name": "stdout",
     "output_type": "stream",
     "text": [
      "Descargando: HURTO DE MOTOCICLETAS -> https://www.policia.gov.co/sites/default/files/delitos-impacto/Hurto%20a%20motocicletas2024_0.xlsx\n"
     ]
    },
    {
     "name": "stderr",
     "output_type": "stream",
     "text": [
      "C:\\Users\\kevin\\AppData\\Local\\Temp\\ipykernel_18120\\4077439092.py:70: UserWarning: This pattern is interpreted as a regular expression, and has match groups. To actually get the groups, use str.extract.\n",
      "  m_total = row_text.str.contains(r\"(^|\\s)total(\\s|:|$)\", regex=True)\n"
     ]
    },
    {
     "name": "stdout",
     "output_type": "stream",
     "text": [
      "Descargando: HURTO DE MOTOCICLETAS -> https://www.policia.gov.co/sites/default/files/delitos-impacto/hurto%20a%20motocicletas....xlsx\n"
     ]
    },
    {
     "name": "stderr",
     "output_type": "stream",
     "text": [
      "C:\\Users\\kevin\\AppData\\Local\\Temp\\ipykernel_18120\\4077439092.py:70: UserWarning: This pattern is interpreted as a regular expression, and has match groups. To actually get the groups, use str.extract.\n",
      "  m_total = row_text.str.contains(r\"(^|\\s)total(\\s|:|$)\", regex=True)\n"
     ]
    },
    {
     "name": "stdout",
     "output_type": "stream",
     "text": [
      "Descargando: HURTO DE MOTOCICLETAS -> https://www.policia.gov.co/sites/default/files/delitos-impacto/hurto_a_motocicletas_7.xls\n"
     ]
    },
    {
     "name": "stderr",
     "output_type": "stream",
     "text": [
      "C:\\Users\\kevin\\AppData\\Local\\Temp\\ipykernel_18120\\4077439092.py:70: UserWarning: This pattern is interpreted as a regular expression, and has match groups. To actually get the groups, use str.extract.\n",
      "  m_total = row_text.str.contains(r\"(^|\\s)total(\\s|:|$)\", regex=True)\n"
     ]
    },
    {
     "name": "stdout",
     "output_type": "stream",
     "text": [
      "Descargando: HURTO DE MOTOCICLETAS -> https://www.policia.gov.co/sites/default/files/delitos-impacto/hurto_a_motocicletas_5.xls\n"
     ]
    },
    {
     "name": "stderr",
     "output_type": "stream",
     "text": [
      "C:\\Users\\kevin\\AppData\\Local\\Temp\\ipykernel_18120\\4077439092.py:70: UserWarning: This pattern is interpreted as a regular expression, and has match groups. To actually get the groups, use str.extract.\n",
      "  m_total = row_text.str.contains(r\"(^|\\s)total(\\s|:|$)\", regex=True)\n"
     ]
    },
    {
     "name": "stdout",
     "output_type": "stream",
     "text": [
      "Descargando: HURTO DE MOTOCICLETAS -> https://www.policia.gov.co/sites/default/files/delitos-impacto/hurto_a_motocicletas_2020.xls\n"
     ]
    },
    {
     "name": "stderr",
     "output_type": "stream",
     "text": [
      "C:\\Users\\kevin\\AppData\\Local\\Temp\\ipykernel_18120\\4077439092.py:70: UserWarning: This pattern is interpreted as a regular expression, and has match groups. To actually get the groups, use str.extract.\n",
      "  m_total = row_text.str.contains(r\"(^|\\s)total(\\s|:|$)\", regex=True)\n"
     ]
    },
    {
     "name": "stdout",
     "output_type": "stream",
     "text": [
      "Descargando: HURTO DE MOTOCICLETAS -> https://www.policia.gov.co/sites/default/files/delitos-impacto/hurto_motocicletas_2019_0.xlsx\n"
     ]
    },
    {
     "name": "stderr",
     "output_type": "stream",
     "text": [
      "C:\\Users\\kevin\\AppData\\Local\\Temp\\ipykernel_18120\\4077439092.py:70: UserWarning: This pattern is interpreted as a regular expression, and has match groups. To actually get the groups, use str.extract.\n",
      "  m_total = row_text.str.contains(r\"(^|\\s)total(\\s|:|$)\", regex=True)\n"
     ]
    },
    {
     "name": "stdout",
     "output_type": "stream",
     "text": [
      "Descargando: HURTO DE MOTOCICLETAS -> https://www.policia.gov.co/sites/default/files/delitos-impacto/hurto_motocicletas_2018_0.xlsx\n"
     ]
    },
    {
     "name": "stderr",
     "output_type": "stream",
     "text": [
      "C:\\Users\\kevin\\AppData\\Local\\Temp\\ipykernel_18120\\4077439092.py:70: UserWarning: This pattern is interpreted as a regular expression, and has match groups. To actually get the groups, use str.extract.\n",
      "  m_total = row_text.str.contains(r\"(^|\\s)total(\\s|:|$)\", regex=True)\n"
     ]
    },
    {
     "name": "stdout",
     "output_type": "stream",
     "text": [
      "Descargando: HURTOS A ENTIDADES COMERCIALES -> https://www.policia.gov.co/sites/default/files/delitos-impacto/Hurto%20a%20comercio2024_0.xlsx\n"
     ]
    },
    {
     "name": "stderr",
     "output_type": "stream",
     "text": [
      "C:\\Users\\kevin\\AppData\\Local\\Temp\\ipykernel_18120\\4077439092.py:70: UserWarning: This pattern is interpreted as a regular expression, and has match groups. To actually get the groups, use str.extract.\n",
      "  m_total = row_text.str.contains(r\"(^|\\s)total(\\s|:|$)\", regex=True)\n"
     ]
    },
    {
     "name": "stdout",
     "output_type": "stream",
     "text": [
      "Descargando: HURTOS A ENTIDADES COMERCIALES -> https://www.policia.gov.co/sites/default/files/delitos-impacto/hurto%20a%20comercio..._0.xlsx\n"
     ]
    },
    {
     "name": "stderr",
     "output_type": "stream",
     "text": [
      "C:\\Users\\kevin\\AppData\\Local\\Temp\\ipykernel_18120\\4077439092.py:70: UserWarning: This pattern is interpreted as a regular expression, and has match groups. To actually get the groups, use str.extract.\n",
      "  m_total = row_text.str.contains(r\"(^|\\s)total(\\s|:|$)\", regex=True)\n"
     ]
    },
    {
     "name": "stdout",
     "output_type": "stream",
     "text": [
      "Descargando: HURTOS A ENTIDADES COMERCIALES -> https://www.policia.gov.co/sites/default/files/delitos-impacto/hurto_a_comercio_11.xls\n"
     ]
    },
    {
     "name": "stderr",
     "output_type": "stream",
     "text": [
      "C:\\Users\\kevin\\AppData\\Local\\Temp\\ipykernel_18120\\4077439092.py:70: UserWarning: This pattern is interpreted as a regular expression, and has match groups. To actually get the groups, use str.extract.\n",
      "  m_total = row_text.str.contains(r\"(^|\\s)total(\\s|:|$)\", regex=True)\n"
     ]
    },
    {
     "name": "stdout",
     "output_type": "stream",
     "text": [
      "Descargando: HURTOS A ENTIDADES COMERCIALES -> https://www.policia.gov.co/sites/default/files/delitos-impacto/hurto_a_comercio_9.xls\n"
     ]
    },
    {
     "name": "stderr",
     "output_type": "stream",
     "text": [
      "C:\\Users\\kevin\\AppData\\Local\\Temp\\ipykernel_18120\\4077439092.py:70: UserWarning: This pattern is interpreted as a regular expression, and has match groups. To actually get the groups, use str.extract.\n",
      "  m_total = row_text.str.contains(r\"(^|\\s)total(\\s|:|$)\", regex=True)\n"
     ]
    },
    {
     "name": "stdout",
     "output_type": "stream",
     "text": [
      "Descargando: HURTOS A ENTIDADES COMERCIALES -> https://www.policia.gov.co/sites/default/files/delitos-impacto/hurto_a_comercio_2020.xls\n"
     ]
    },
    {
     "name": "stderr",
     "output_type": "stream",
     "text": [
      "C:\\Users\\kevin\\AppData\\Local\\Temp\\ipykernel_18120\\4077439092.py:70: UserWarning: This pattern is interpreted as a regular expression, and has match groups. To actually get the groups, use str.extract.\n",
      "  m_total = row_text.str.contains(r\"(^|\\s)total(\\s|:|$)\", regex=True)\n"
     ]
    },
    {
     "name": "stdout",
     "output_type": "stream",
     "text": [
      "Descargando: HURTOS A ENTIDADES COMERCIALES -> https://www.policia.gov.co/sites/default/files/delitos-impacto/hurto_a_comercio_2019_0.xlsx\n"
     ]
    },
    {
     "name": "stderr",
     "output_type": "stream",
     "text": [
      "C:\\Users\\kevin\\AppData\\Local\\Temp\\ipykernel_18120\\4077439092.py:70: UserWarning: This pattern is interpreted as a regular expression, and has match groups. To actually get the groups, use str.extract.\n",
      "  m_total = row_text.str.contains(r\"(^|\\s)total(\\s|:|$)\", regex=True)\n"
     ]
    },
    {
     "name": "stdout",
     "output_type": "stream",
     "text": [
      "Descargando: HURTOS A ENTIDADES COMERCIALES -> https://www.policia.gov.co/sites/default/files/delitos-impacto/hurto_a_comercio_2018_1.xlsx\n"
     ]
    },
    {
     "name": "stderr",
     "output_type": "stream",
     "text": [
      "C:\\Users\\kevin\\AppData\\Local\\Temp\\ipykernel_18120\\4077439092.py:70: UserWarning: This pattern is interpreted as a regular expression, and has match groups. To actually get the groups, use str.extract.\n",
      "  m_total = row_text.str.contains(r\"(^|\\s)total(\\s|:|$)\", regex=True)\n"
     ]
    },
    {
     "name": "stdout",
     "output_type": "stream",
     "text": [
      "Descargando: HURTOS A ENTIDADES COMERCIALES -> https://www.policia.gov.co/sites/default/files/delitos-impacto/hurto_motocicletas_2018_0.xlsx\n"
     ]
    },
    {
     "name": "stderr",
     "output_type": "stream",
     "text": [
      "C:\\Users\\kevin\\AppData\\Local\\Temp\\ipykernel_18120\\4077439092.py:70: UserWarning: This pattern is interpreted as a regular expression, and has match groups. To actually get the groups, use str.extract.\n",
      "  m_total = row_text.str.contains(r\"(^|\\s)total(\\s|:|$)\", regex=True)\n"
     ]
    },
    {
     "name": "stdout",
     "output_type": "stream",
     "text": [
      "Descargando: HURTOS A ENTIDADES FINANCIERAS -> https://www.policia.gov.co/sites/default/files/delitos-impacto/Hurto%20a%20entidades%20Financieras2024_0.xlsx\n"
     ]
    },
    {
     "name": "stderr",
     "output_type": "stream",
     "text": [
      "C:\\Users\\kevin\\AppData\\Local\\Temp\\ipykernel_18120\\4077439092.py:70: UserWarning: This pattern is interpreted as a regular expression, and has match groups. To actually get the groups, use str.extract.\n",
      "  m_total = row_text.str.contains(r\"(^|\\s)total(\\s|:|$)\", regex=True)\n"
     ]
    },
    {
     "name": "stdout",
     "output_type": "stream",
     "text": [
      "Descargando: HURTOS A ENTIDADES FINANCIERAS -> https://www.policia.gov.co/sites/default/files/delitos-impacto/hurto%20entidades%20financieras.xlsx\n"
     ]
    },
    {
     "name": "stderr",
     "output_type": "stream",
     "text": [
      "C:\\Users\\kevin\\AppData\\Local\\Temp\\ipykernel_18120\\4077439092.py:70: UserWarning: This pattern is interpreted as a regular expression, and has match groups. To actually get the groups, use str.extract.\n",
      "  m_total = row_text.str.contains(r\"(^|\\s)total(\\s|:|$)\", regex=True)\n"
     ]
    },
    {
     "name": "stdout",
     "output_type": "stream",
     "text": [
      "Descargando: HURTOS A ENTIDADES FINANCIERAS -> https://www.policia.gov.co/sites/default/files/delitos-impacto/hurto_entidades_financieras_11.xls\n"
     ]
    },
    {
     "name": "stderr",
     "output_type": "stream",
     "text": [
      "C:\\Users\\kevin\\AppData\\Local\\Temp\\ipykernel_18120\\4077439092.py:70: UserWarning: This pattern is interpreted as a regular expression, and has match groups. To actually get the groups, use str.extract.\n",
      "  m_total = row_text.str.contains(r\"(^|\\s)total(\\s|:|$)\", regex=True)\n"
     ]
    },
    {
     "name": "stdout",
     "output_type": "stream",
     "text": [
      "Descargando: HURTOS A ENTIDADES FINANCIERAS -> https://www.policia.gov.co/sites/default/files/delitos-impacto/hurto_entidades_financieras_9.xls\n"
     ]
    },
    {
     "name": "stderr",
     "output_type": "stream",
     "text": [
      "C:\\Users\\kevin\\AppData\\Local\\Temp\\ipykernel_18120\\4077439092.py:70: UserWarning: This pattern is interpreted as a regular expression, and has match groups. To actually get the groups, use str.extract.\n",
      "  m_total = row_text.str.contains(r\"(^|\\s)total(\\s|:|$)\", regex=True)\n"
     ]
    },
    {
     "name": "stdout",
     "output_type": "stream",
     "text": [
      "Descargando: HURTOS A ENTIDADES FINANCIERAS -> https://www.policia.gov.co/sites/default/files/delitos-impacto/hurto_entidades_financieras_2020.xls\n"
     ]
    },
    {
     "name": "stderr",
     "output_type": "stream",
     "text": [
      "C:\\Users\\kevin\\AppData\\Local\\Temp\\ipykernel_18120\\4077439092.py:70: UserWarning: This pattern is interpreted as a regular expression, and has match groups. To actually get the groups, use str.extract.\n",
      "  m_total = row_text.str.contains(r\"(^|\\s)total(\\s|:|$)\", regex=True)\n"
     ]
    },
    {
     "name": "stdout",
     "output_type": "stream",
     "text": [
      "Descargando: HURTOS A ENTIDADES FINANCIERAS -> https://www.policia.gov.co/sites/default/files/delitos-impacto/hurto_a_entidades_financieras_2019_3.xlsx\n"
     ]
    },
    {
     "name": "stderr",
     "output_type": "stream",
     "text": [
      "C:\\Users\\kevin\\AppData\\Local\\Temp\\ipykernel_18120\\4077439092.py:70: UserWarning: This pattern is interpreted as a regular expression, and has match groups. To actually get the groups, use str.extract.\n",
      "  m_total = row_text.str.contains(r\"(^|\\s)total(\\s|:|$)\", regex=True)\n"
     ]
    },
    {
     "name": "stdout",
     "output_type": "stream",
     "text": [
      "Descargando: HURTOS A ENTIDADES FINANCIERAS -> https://www.policia.gov.co/sites/default/files/delitos-impacto/hurto_a_entidades_financieras_2018_0.xlsx\n"
     ]
    },
    {
     "name": "stderr",
     "output_type": "stream",
     "text": [
      "C:\\Users\\kevin\\AppData\\Local\\Temp\\ipykernel_18120\\4077439092.py:70: UserWarning: This pattern is interpreted as a regular expression, and has match groups. To actually get the groups, use str.extract.\n",
      "  m_total = row_text.str.contains(r\"(^|\\s)total(\\s|:|$)\", regex=True)\n"
     ]
    },
    {
     "name": "stdout",
     "output_type": "stream",
     "text": [
      "Descargando: HURTOS A ENTIDADES FINANCIERAS -> https://www.policia.gov.co/sites/default/files/delitos-impacto/hurto_a_entidades_financieras_2018_3.xlsx\n"
     ]
    },
    {
     "name": "stderr",
     "output_type": "stream",
     "text": [
      "C:\\Users\\kevin\\AppData\\Local\\Temp\\ipykernel_18120\\4077439092.py:70: UserWarning: This pattern is interpreted as a regular expression, and has match groups. To actually get the groups, use str.extract.\n",
      "  m_total = row_text.str.contains(r\"(^|\\s)total(\\s|:|$)\", regex=True)\n"
     ]
    },
    {
     "name": "stdout",
     "output_type": "stream",
     "text": [
      "Descargando: LESIONES EN ACCIDENTES DE TRANSITO -> https://www.policia.gov.co/sites/default/files/delitos-impacto/Lesiones%20en%20accidente%20de%20tr%C3%A1nsito2024_2.xlsx\n"
     ]
    },
    {
     "name": "stderr",
     "output_type": "stream",
     "text": [
      "C:\\Users\\kevin\\AppData\\Local\\Temp\\ipykernel_18120\\4077439092.py:70: UserWarning: This pattern is interpreted as a regular expression, and has match groups. To actually get the groups, use str.extract.\n",
      "  m_total = row_text.str.contains(r\"(^|\\s)total(\\s|:|$)\", regex=True)\n"
     ]
    },
    {
     "name": "stdout",
     "output_type": "stream",
     "text": [
      "Descargando: LESIONES EN ACCIDENTES DE TRANSITO -> https://www.policia.gov.co/sites/default/files/delitos-impacto/lesiones%20en%20accidente%20de%20transito....xlsx\n"
     ]
    },
    {
     "name": "stderr",
     "output_type": "stream",
     "text": [
      "C:\\Users\\kevin\\AppData\\Local\\Temp\\ipykernel_18120\\4077439092.py:70: UserWarning: This pattern is interpreted as a regular expression, and has match groups. To actually get the groups, use str.extract.\n",
      "  m_total = row_text.str.contains(r\"(^|\\s)total(\\s|:|$)\", regex=True)\n"
     ]
    },
    {
     "name": "stdout",
     "output_type": "stream",
     "text": [
      "Descargando: LESIONES EN ACCIDENTES DE TRANSITO -> https://www.policia.gov.co/sites/default/files/delitos-impacto/lesiones_en_accidente_de_transito_7.xlsx\n"
     ]
    },
    {
     "name": "stderr",
     "output_type": "stream",
     "text": [
      "C:\\Users\\kevin\\AppData\\Local\\Temp\\ipykernel_18120\\4077439092.py:70: UserWarning: This pattern is interpreted as a regular expression, and has match groups. To actually get the groups, use str.extract.\n",
      "  m_total = row_text.str.contains(r\"(^|\\s)total(\\s|:|$)\", regex=True)\n"
     ]
    },
    {
     "name": "stdout",
     "output_type": "stream",
     "text": [
      "Descargando: LESIONES EN ACCIDENTES DE TRANSITO -> https://www.policia.gov.co/sites/default/files/delitos-impacto/lesiones_en_accidente_de_transito_5.xls\n"
     ]
    },
    {
     "name": "stderr",
     "output_type": "stream",
     "text": [
      "C:\\Users\\kevin\\AppData\\Local\\Temp\\ipykernel_18120\\4077439092.py:70: UserWarning: This pattern is interpreted as a regular expression, and has match groups. To actually get the groups, use str.extract.\n",
      "  m_total = row_text.str.contains(r\"(^|\\s)total(\\s|:|$)\", regex=True)\n"
     ]
    },
    {
     "name": "stdout",
     "output_type": "stream",
     "text": [
      "Descargando: LESIONES EN ACCIDENTES DE TRANSITO -> https://www.policia.gov.co/sites/default/files/delitos-impacto/lesiones_en_accidente_de_transito_2020_1.xls\n"
     ]
    },
    {
     "name": "stderr",
     "output_type": "stream",
     "text": [
      "C:\\Users\\kevin\\AppData\\Local\\Temp\\ipykernel_18120\\4077439092.py:70: UserWarning: This pattern is interpreted as a regular expression, and has match groups. To actually get the groups, use str.extract.\n",
      "  m_total = row_text.str.contains(r\"(^|\\s)total(\\s|:|$)\", regex=True)\n"
     ]
    },
    {
     "name": "stdout",
     "output_type": "stream",
     "text": [
      "Descargando: LESIONES EN ACCIDENTES DE TRANSITO -> https://www.policia.gov.co/sites/default/files/delitos-impacto/lesiones_en_accidente_de_transito_2019_0.xlsx\n"
     ]
    },
    {
     "name": "stderr",
     "output_type": "stream",
     "text": [
      "C:\\Users\\kevin\\AppData\\Local\\Temp\\ipykernel_18120\\4077439092.py:70: UserWarning: This pattern is interpreted as a regular expression, and has match groups. To actually get the groups, use str.extract.\n",
      "  m_total = row_text.str.contains(r\"(^|\\s)total(\\s|:|$)\", regex=True)\n"
     ]
    },
    {
     "name": "stdout",
     "output_type": "stream",
     "text": [
      "Descargando: LESIONES EN ACCIDENTES DE TRANSITO -> https://www.policia.gov.co/sites/default/files/delitos-impacto/lesiones_en_accidente_de_transito_2018_1.xlsx\n"
     ]
    },
    {
     "name": "stderr",
     "output_type": "stream",
     "text": [
      "C:\\Users\\kevin\\AppData\\Local\\Temp\\ipykernel_18120\\4077439092.py:70: UserWarning: This pattern is interpreted as a regular expression, and has match groups. To actually get the groups, use str.extract.\n",
      "  m_total = row_text.str.contains(r\"(^|\\s)total(\\s|:|$)\", regex=True)\n"
     ]
    },
    {
     "name": "stdout",
     "output_type": "stream",
     "text": [
      "Descargando: LESIONES EN ACCIDENTES DE TRANSITO -> https://www.policia.gov.co/sites/default/files/delitos-impacto/lesiones_en_accidente_de_transito_2018_0.xlsx\n"
     ]
    },
    {
     "name": "stderr",
     "output_type": "stream",
     "text": [
      "C:\\Users\\kevin\\AppData\\Local\\Temp\\ipykernel_18120\\4077439092.py:70: UserWarning: This pattern is interpreted as a regular expression, and has match groups. To actually get the groups, use str.extract.\n",
      "  m_total = row_text.str.contains(r\"(^|\\s)total(\\s|:|$)\", regex=True)\n"
     ]
    },
    {
     "name": "stdout",
     "output_type": "stream",
     "text": [
      "Descargando: LESIONES PERSONALES -> https://www.policia.gov.co/sites/default/files/delitos-impacto/Lesiones%20personales2024_0.xlsx\n"
     ]
    },
    {
     "name": "stderr",
     "output_type": "stream",
     "text": [
      "C:\\Users\\kevin\\AppData\\Local\\Temp\\ipykernel_18120\\4077439092.py:70: UserWarning: This pattern is interpreted as a regular expression, and has match groups. To actually get the groups, use str.extract.\n",
      "  m_total = row_text.str.contains(r\"(^|\\s)total(\\s|:|$)\", regex=True)\n"
     ]
    },
    {
     "name": "stdout",
     "output_type": "stream",
     "text": [
      "Descargando: LESIONES PERSONALES -> https://www.policia.gov.co/sites/default/files/delitos-impacto/lesiones%20personales..._0.xlsx\n"
     ]
    },
    {
     "name": "stderr",
     "output_type": "stream",
     "text": [
      "C:\\Users\\kevin\\AppData\\Local\\Temp\\ipykernel_18120\\4077439092.py:70: UserWarning: This pattern is interpreted as a regular expression, and has match groups. To actually get the groups, use str.extract.\n",
      "  m_total = row_text.str.contains(r\"(^|\\s)total(\\s|:|$)\", regex=True)\n"
     ]
    },
    {
     "name": "stdout",
     "output_type": "stream",
     "text": [
      "Descargando: LESIONES PERSONALES -> https://www.policia.gov.co/sites/default/files/delitos-impacto/lesiones_personales_0.xlsx\n"
     ]
    },
    {
     "name": "stderr",
     "output_type": "stream",
     "text": [
      "C:\\Users\\kevin\\AppData\\Local\\Temp\\ipykernel_18120\\4077439092.py:70: UserWarning: This pattern is interpreted as a regular expression, and has match groups. To actually get the groups, use str.extract.\n",
      "  m_total = row_text.str.contains(r\"(^|\\s)total(\\s|:|$)\", regex=True)\n"
     ]
    },
    {
     "name": "stdout",
     "output_type": "stream",
     "text": [
      "Descargando: LESIONES PERSONALES -> https://www.policia.gov.co/sites/default/files/delitos-impacto/lesiones_personales_5.xls\n"
     ]
    },
    {
     "name": "stderr",
     "output_type": "stream",
     "text": [
      "C:\\Users\\kevin\\AppData\\Local\\Temp\\ipykernel_18120\\4077439092.py:70: UserWarning: This pattern is interpreted as a regular expression, and has match groups. To actually get the groups, use str.extract.\n",
      "  m_total = row_text.str.contains(r\"(^|\\s)total(\\s|:|$)\", regex=True)\n"
     ]
    },
    {
     "name": "stdout",
     "output_type": "stream",
     "text": [
      "Descargando: LESIONES PERSONALES -> https://www.policia.gov.co/sites/default/files/delitos-impacto/lesiones_personales_2020.xlsx\n"
     ]
    },
    {
     "name": "stderr",
     "output_type": "stream",
     "text": [
      "C:\\Users\\kevin\\AppData\\Local\\Temp\\ipykernel_18120\\4077439092.py:70: UserWarning: This pattern is interpreted as a regular expression, and has match groups. To actually get the groups, use str.extract.\n",
      "  m_total = row_text.str.contains(r\"(^|\\s)total(\\s|:|$)\", regex=True)\n"
     ]
    },
    {
     "name": "stdout",
     "output_type": "stream",
     "text": [
      "Descargando: LESIONES PERSONALES -> https://www.policia.gov.co/sites/default/files/delitos-impacto/lesiones_personales_2019_0.xlsx\n"
     ]
    },
    {
     "name": "stderr",
     "output_type": "stream",
     "text": [
      "C:\\Users\\kevin\\AppData\\Local\\Temp\\ipykernel_18120\\4077439092.py:70: UserWarning: This pattern is interpreted as a regular expression, and has match groups. To actually get the groups, use str.extract.\n",
      "  m_total = row_text.str.contains(r\"(^|\\s)total(\\s|:|$)\", regex=True)\n"
     ]
    },
    {
     "name": "stdout",
     "output_type": "stream",
     "text": [
      "Descargando: LESIONES PERSONALES -> https://www.policia.gov.co/sites/default/files/delitos-impacto/lesiones_personales_2018_0.xlsx\n"
     ]
    },
    {
     "name": "stderr",
     "output_type": "stream",
     "text": [
      "C:\\Users\\kevin\\AppData\\Local\\Temp\\ipykernel_18120\\4077439092.py:70: UserWarning: This pattern is interpreted as a regular expression, and has match groups. To actually get the groups, use str.extract.\n",
      "  m_total = row_text.str.contains(r\"(^|\\s)total(\\s|:|$)\", regex=True)\n"
     ]
    },
    {
     "name": "stdout",
     "output_type": "stream",
     "text": [
      "Descargando: PIRATERIA TERRESTRE -> https://www.policia.gov.co/sites/default/files/delitos-impacto/Hurto%20pirater%C3%ADa%20terrestre2024_0.xlsx\n"
     ]
    },
    {
     "name": "stderr",
     "output_type": "stream",
     "text": [
      "C:\\Users\\kevin\\AppData\\Local\\Temp\\ipykernel_18120\\4077439092.py:70: UserWarning: This pattern is interpreted as a regular expression, and has match groups. To actually get the groups, use str.extract.\n",
      "  m_total = row_text.str.contains(r\"(^|\\s)total(\\s|:|$)\", regex=True)\n"
     ]
    },
    {
     "name": "stdout",
     "output_type": "stream",
     "text": [
      "Descargando: PIRATERIA TERRESTRE -> https://www.policia.gov.co/sites/default/files/delitos-impacto/hurto%20pirateria%20terrestre_1.xlsx\n"
     ]
    },
    {
     "name": "stderr",
     "output_type": "stream",
     "text": [
      "C:\\Users\\kevin\\AppData\\Local\\Temp\\ipykernel_18120\\4077439092.py:70: UserWarning: This pattern is interpreted as a regular expression, and has match groups. To actually get the groups, use str.extract.\n",
      "  m_total = row_text.str.contains(r\"(^|\\s)total(\\s|:|$)\", regex=True)\n"
     ]
    },
    {
     "name": "stdout",
     "output_type": "stream",
     "text": [
      "Descargando: PIRATERIA TERRESTRE -> https://www.policia.gov.co/sites/default/files/delitos-impacto/hurto_a_pirateria_terrestre_11.xls\n"
     ]
    },
    {
     "name": "stderr",
     "output_type": "stream",
     "text": [
      "C:\\Users\\kevin\\AppData\\Local\\Temp\\ipykernel_18120\\4077439092.py:70: UserWarning: This pattern is interpreted as a regular expression, and has match groups. To actually get the groups, use str.extract.\n",
      "  m_total = row_text.str.contains(r\"(^|\\s)total(\\s|:|$)\", regex=True)\n"
     ]
    },
    {
     "name": "stdout",
     "output_type": "stream",
     "text": [
      "Descargando: PIRATERIA TERRESTRE -> https://www.policia.gov.co/sites/default/files/delitos-impacto/hurto_a_pirateria_terrestre_9.xls\n"
     ]
    },
    {
     "name": "stderr",
     "output_type": "stream",
     "text": [
      "C:\\Users\\kevin\\AppData\\Local\\Temp\\ipykernel_18120\\4077439092.py:70: UserWarning: This pattern is interpreted as a regular expression, and has match groups. To actually get the groups, use str.extract.\n",
      "  m_total = row_text.str.contains(r\"(^|\\s)total(\\s|:|$)\", regex=True)\n"
     ]
    },
    {
     "name": "stdout",
     "output_type": "stream",
     "text": [
      "Descargando: PIRATERIA TERRESTRE -> https://www.policia.gov.co/sites/default/files/delitos-impacto/pirateria_terrestre_2020_1.xls\n"
     ]
    },
    {
     "name": "stderr",
     "output_type": "stream",
     "text": [
      "C:\\Users\\kevin\\AppData\\Local\\Temp\\ipykernel_18120\\4077439092.py:70: UserWarning: This pattern is interpreted as a regular expression, and has match groups. To actually get the groups, use str.extract.\n",
      "  m_total = row_text.str.contains(r\"(^|\\s)total(\\s|:|$)\", regex=True)\n"
     ]
    },
    {
     "name": "stdout",
     "output_type": "stream",
     "text": [
      "Descargando: PIRATERIA TERRESTRE -> https://www.policia.gov.co/sites/default/files/delitos-impacto/hurto_entidades_financieras_2020_0.xls\n"
     ]
    },
    {
     "name": "stderr",
     "output_type": "stream",
     "text": [
      "C:\\Users\\kevin\\AppData\\Local\\Temp\\ipykernel_18120\\4077439092.py:70: UserWarning: This pattern is interpreted as a regular expression, and has match groups. To actually get the groups, use str.extract.\n",
      "  m_total = row_text.str.contains(r\"(^|\\s)total(\\s|:|$)\", regex=True)\n"
     ]
    },
    {
     "name": "stdout",
     "output_type": "stream",
     "text": [
      "Descargando: PIRATERIA TERRESTRE -> https://www.policia.gov.co/sites/default/files/delitos-impacto/pirateria_terrestre_2019_3.xlsx\n"
     ]
    },
    {
     "name": "stderr",
     "output_type": "stream",
     "text": [
      "C:\\Users\\kevin\\AppData\\Local\\Temp\\ipykernel_18120\\4077439092.py:70: UserWarning: This pattern is interpreted as a regular expression, and has match groups. To actually get the groups, use str.extract.\n",
      "  m_total = row_text.str.contains(r\"(^|\\s)total(\\s|:|$)\", regex=True)\n"
     ]
    },
    {
     "name": "stdout",
     "output_type": "stream",
     "text": [
      "Descargando: PIRATERIA TERRESTRE -> https://www.policia.gov.co/sites/default/files/delitos-impacto/pirateria_terrestre_2018_2.xlsx\n"
     ]
    },
    {
     "name": "stderr",
     "output_type": "stream",
     "text": [
      "C:\\Users\\kevin\\AppData\\Local\\Temp\\ipykernel_18120\\4077439092.py:70: UserWarning: This pattern is interpreted as a regular expression, and has match groups. To actually get the groups, use str.extract.\n",
      "  m_total = row_text.str.contains(r\"(^|\\s)total(\\s|:|$)\", regex=True)\n"
     ]
    },
    {
     "name": "stdout",
     "output_type": "stream",
     "text": [
      "Descargando: PIRATERIA TERRESTRE -> https://www.policia.gov.co/sites/default/files/delitos-impacto/pirateria_terrestre_2018_1.xlsx\n"
     ]
    },
    {
     "name": "stderr",
     "output_type": "stream",
     "text": [
      "C:\\Users\\kevin\\AppData\\Local\\Temp\\ipykernel_18120\\4077439092.py:70: UserWarning: This pattern is interpreted as a regular expression, and has match groups. To actually get the groups, use str.extract.\n",
      "  m_total = row_text.str.contains(r\"(^|\\s)total(\\s|:|$)\", regex=True)\n"
     ]
    },
    {
     "name": "stdout",
     "output_type": "stream",
     "text": [
      "Descargando: SECUESTRO -> https://www.policia.gov.co/sites/default/files/delitos-impacto/Secuestro2024_0.xlsx\n"
     ]
    },
    {
     "name": "stderr",
     "output_type": "stream",
     "text": [
      "C:\\Users\\kevin\\AppData\\Local\\Temp\\ipykernel_18120\\4077439092.py:70: UserWarning: This pattern is interpreted as a regular expression, and has match groups. To actually get the groups, use str.extract.\n",
      "  m_total = row_text.str.contains(r\"(^|\\s)total(\\s|:|$)\", regex=True)\n"
     ]
    },
    {
     "name": "stdout",
     "output_type": "stream",
     "text": [
      "Descargando: SECUESTRO -> https://www.policia.gov.co/sites/default/files/delitos-impacto/secuestro..._0.xlsx\n"
     ]
    },
    {
     "name": "stderr",
     "output_type": "stream",
     "text": [
      "C:\\Users\\kevin\\AppData\\Local\\Temp\\ipykernel_18120\\4077439092.py:70: UserWarning: This pattern is interpreted as a regular expression, and has match groups. To actually get the groups, use str.extract.\n",
      "  m_total = row_text.str.contains(r\"(^|\\s)total(\\s|:|$)\", regex=True)\n"
     ]
    },
    {
     "name": "stdout",
     "output_type": "stream",
     "text": [
      "Descargando: SECUESTRO -> https://www.policia.gov.co/sites/default/files/delitos-impacto/secuestro_11.xls\n"
     ]
    },
    {
     "name": "stderr",
     "output_type": "stream",
     "text": [
      "C:\\Users\\kevin\\AppData\\Local\\Temp\\ipykernel_18120\\4077439092.py:70: UserWarning: This pattern is interpreted as a regular expression, and has match groups. To actually get the groups, use str.extract.\n",
      "  m_total = row_text.str.contains(r\"(^|\\s)total(\\s|:|$)\", regex=True)\n"
     ]
    },
    {
     "name": "stdout",
     "output_type": "stream",
     "text": [
      "Descargando: SECUESTRO -> https://www.policia.gov.co/sites/default/files/delitos-impacto/secuestro_9.xls\n"
     ]
    },
    {
     "name": "stderr",
     "output_type": "stream",
     "text": [
      "C:\\Users\\kevin\\AppData\\Local\\Temp\\ipykernel_18120\\4077439092.py:70: UserWarning: This pattern is interpreted as a regular expression, and has match groups. To actually get the groups, use str.extract.\n",
      "  m_total = row_text.str.contains(r\"(^|\\s)total(\\s|:|$)\", regex=True)\n"
     ]
    },
    {
     "name": "stdout",
     "output_type": "stream",
     "text": [
      "Descargando: SECUESTRO -> https://www.policia.gov.co/sites/default/files/delitos-impacto/secuestro_2020.xls\n"
     ]
    },
    {
     "name": "stderr",
     "output_type": "stream",
     "text": [
      "C:\\Users\\kevin\\AppData\\Local\\Temp\\ipykernel_18120\\4077439092.py:70: UserWarning: This pattern is interpreted as a regular expression, and has match groups. To actually get the groups, use str.extract.\n",
      "  m_total = row_text.str.contains(r\"(^|\\s)total(\\s|:|$)\", regex=True)\n"
     ]
    },
    {
     "name": "stdout",
     "output_type": "stream",
     "text": [
      "Descargando: SECUESTRO -> https://www.policia.gov.co/sites/default/files/delitos-impacto/secuestro_2019_3.xlsx\n"
     ]
    },
    {
     "name": "stderr",
     "output_type": "stream",
     "text": [
      "C:\\Users\\kevin\\AppData\\Local\\Temp\\ipykernel_18120\\4077439092.py:70: UserWarning: This pattern is interpreted as a regular expression, and has match groups. To actually get the groups, use str.extract.\n",
      "  m_total = row_text.str.contains(r\"(^|\\s)total(\\s|:|$)\", regex=True)\n"
     ]
    },
    {
     "name": "stdout",
     "output_type": "stream",
     "text": [
      "Descargando: SECUESTRO -> https://www.policia.gov.co/sites/default/files/delitos-impacto/secuestro_2018_3.xlsx\n"
     ]
    },
    {
     "name": "stderr",
     "output_type": "stream",
     "text": [
      "C:\\Users\\kevin\\AppData\\Local\\Temp\\ipykernel_18120\\4077439092.py:70: UserWarning: This pattern is interpreted as a regular expression, and has match groups. To actually get the groups, use str.extract.\n",
      "  m_total = row_text.str.contains(r\"(^|\\s)total(\\s|:|$)\", regex=True)\n"
     ]
    },
    {
     "name": "stdout",
     "output_type": "stream",
     "text": [
      "Descargando: SECUESTRO -> https://www.policia.gov.co/sites/default/files/delitos-impacto/secuestro_2018_2.xlsx\n"
     ]
    },
    {
     "name": "stderr",
     "output_type": "stream",
     "text": [
      "C:\\Users\\kevin\\AppData\\Local\\Temp\\ipykernel_18120\\4077439092.py:70: UserWarning: This pattern is interpreted as a regular expression, and has match groups. To actually get the groups, use str.extract.\n",
      "  m_total = row_text.str.contains(r\"(^|\\s)total(\\s|:|$)\", regex=True)\n"
     ]
    },
    {
     "name": "stdout",
     "output_type": "stream",
     "text": [
      "Descargando: TERRORISMO -> https://www.policia.gov.co/sites/default/files/delitos-impacto/Terrorismo2024_0.xlsx\n"
     ]
    },
    {
     "name": "stderr",
     "output_type": "stream",
     "text": [
      "C:\\Users\\kevin\\AppData\\Local\\Temp\\ipykernel_18120\\4077439092.py:70: UserWarning: This pattern is interpreted as a regular expression, and has match groups. To actually get the groups, use str.extract.\n",
      "  m_total = row_text.str.contains(r\"(^|\\s)total(\\s|:|$)\", regex=True)\n"
     ]
    },
    {
     "name": "stdout",
     "output_type": "stream",
     "text": [
      "Descargando: TERRORISMO -> https://www.policia.gov.co/sites/default/files/delitos-impacto/terrorismo_4.xlsx\n"
     ]
    },
    {
     "name": "stderr",
     "output_type": "stream",
     "text": [
      "C:\\Users\\kevin\\AppData\\Local\\Temp\\ipykernel_18120\\4077439092.py:70: UserWarning: This pattern is interpreted as a regular expression, and has match groups. To actually get the groups, use str.extract.\n",
      "  m_total = row_text.str.contains(r\"(^|\\s)total(\\s|:|$)\", regex=True)\n"
     ]
    },
    {
     "name": "stdout",
     "output_type": "stream",
     "text": [
      "Descargando: TERRORISMO -> https://www.policia.gov.co/sites/default/files/delitos-impacto/terrorismo_11.xls\n"
     ]
    },
    {
     "name": "stderr",
     "output_type": "stream",
     "text": [
      "C:\\Users\\kevin\\AppData\\Local\\Temp\\ipykernel_18120\\4077439092.py:70: UserWarning: This pattern is interpreted as a regular expression, and has match groups. To actually get the groups, use str.extract.\n",
      "  m_total = row_text.str.contains(r\"(^|\\s)total(\\s|:|$)\", regex=True)\n"
     ]
    },
    {
     "name": "stdout",
     "output_type": "stream",
     "text": [
      "Descargando: TERRORISMO -> https://www.policia.gov.co/sites/default/files/delitos-impacto/terrorismo_9.xls\n"
     ]
    },
    {
     "name": "stderr",
     "output_type": "stream",
     "text": [
      "C:\\Users\\kevin\\AppData\\Local\\Temp\\ipykernel_18120\\4077439092.py:70: UserWarning: This pattern is interpreted as a regular expression, and has match groups. To actually get the groups, use str.extract.\n",
      "  m_total = row_text.str.contains(r\"(^|\\s)total(\\s|:|$)\", regex=True)\n"
     ]
    },
    {
     "name": "stdout",
     "output_type": "stream",
     "text": [
      "Descargando: TERRORISMO -> https://www.policia.gov.co/sites/default/files/delitos-impacto/terrorismo_2020_1.xls\n"
     ]
    },
    {
     "name": "stderr",
     "output_type": "stream",
     "text": [
      "C:\\Users\\kevin\\AppData\\Local\\Temp\\ipykernel_18120\\4077439092.py:70: UserWarning: This pattern is interpreted as a regular expression, and has match groups. To actually get the groups, use str.extract.\n",
      "  m_total = row_text.str.contains(r\"(^|\\s)total(\\s|:|$)\", regex=True)\n"
     ]
    },
    {
     "name": "stdout",
     "output_type": "stream",
     "text": [
      "Descargando: TERRORISMO -> https://www.policia.gov.co/sites/default/files/delitos-impacto/terrorismo_2020_0.xls\n"
     ]
    },
    {
     "name": "stderr",
     "output_type": "stream",
     "text": [
      "C:\\Users\\kevin\\AppData\\Local\\Temp\\ipykernel_18120\\4077439092.py:70: UserWarning: This pattern is interpreted as a regular expression, and has match groups. To actually get the groups, use str.extract.\n",
      "  m_total = row_text.str.contains(r\"(^|\\s)total(\\s|:|$)\", regex=True)\n"
     ]
    },
    {
     "name": "stdout",
     "output_type": "stream",
     "text": [
      "Descargando: TERRORISMO -> https://www.policia.gov.co/sites/default/files/delitos-impacto/terrorismo_2019_2.xlsx\n"
     ]
    },
    {
     "name": "stderr",
     "output_type": "stream",
     "text": [
      "C:\\Users\\kevin\\AppData\\Local\\Temp\\ipykernel_18120\\4077439092.py:70: UserWarning: This pattern is interpreted as a regular expression, and has match groups. To actually get the groups, use str.extract.\n",
      "  m_total = row_text.str.contains(r\"(^|\\s)total(\\s|:|$)\", regex=True)\n"
     ]
    },
    {
     "name": "stdout",
     "output_type": "stream",
     "text": [
      "Descargando: TERRORISMO -> https://www.policia.gov.co/sites/default/files/delitos-impacto/terrorismo_2018_2.xlsx\n"
     ]
    },
    {
     "name": "stderr",
     "output_type": "stream",
     "text": [
      "C:\\Users\\kevin\\AppData\\Local\\Temp\\ipykernel_18120\\4077439092.py:70: UserWarning: This pattern is interpreted as a regular expression, and has match groups. To actually get the groups, use str.extract.\n",
      "  m_total = row_text.str.contains(r\"(^|\\s)total(\\s|:|$)\", regex=True)\n"
     ]
    },
    {
     "name": "stdout",
     "output_type": "stream",
     "text": [
      "Descargando: TERRORISMO -> https://www.policia.gov.co/sites/default/files/delitos-impacto/terrorismo_2018_0.xlsx\n"
     ]
    },
    {
     "name": "stderr",
     "output_type": "stream",
     "text": [
      "C:\\Users\\kevin\\AppData\\Local\\Temp\\ipykernel_18120\\4077439092.py:70: UserWarning: This pattern is interpreted as a regular expression, and has match groups. To actually get the groups, use str.extract.\n",
      "  m_total = row_text.str.contains(r\"(^|\\s)total(\\s|:|$)\", regex=True)\n"
     ]
    },
    {
     "name": "stdout",
     "output_type": "stream",
     "text": [
      "Descargando: VIOLENCIA INTRAFAMILIAR -> https://www.policia.gov.co/sites/default/files/delitos-impacto/Violencia%20intrafamiliar2024_0.xlsx\n"
     ]
    },
    {
     "name": "stderr",
     "output_type": "stream",
     "text": [
      "C:\\Users\\kevin\\AppData\\Local\\Temp\\ipykernel_18120\\4077439092.py:70: UserWarning: This pattern is interpreted as a regular expression, and has match groups. To actually get the groups, use str.extract.\n",
      "  m_total = row_text.str.contains(r\"(^|\\s)total(\\s|:|$)\", regex=True)\n"
     ]
    },
    {
     "name": "stdout",
     "output_type": "stream",
     "text": [
      "Descargando: VIOLENCIA INTRAFAMILIAR -> https://www.policia.gov.co/sites/default/files/delitos-impacto/violencia%20intrafamiliar....xlsx\n"
     ]
    },
    {
     "name": "stderr",
     "output_type": "stream",
     "text": [
      "C:\\Users\\kevin\\AppData\\Local\\Temp\\ipykernel_18120\\4077439092.py:70: UserWarning: This pattern is interpreted as a regular expression, and has match groups. To actually get the groups, use str.extract.\n",
      "  m_total = row_text.str.contains(r\"(^|\\s)total(\\s|:|$)\", regex=True)\n"
     ]
    },
    {
     "name": "stdout",
     "output_type": "stream",
     "text": [
      "Descargando: VIOLENCIA INTRAFAMILIAR -> https://www.policia.gov.co/sites/default/files/delitos-impacto/violencia_intrafamiliar_12.xls\n"
     ]
    },
    {
     "name": "stderr",
     "output_type": "stream",
     "text": [
      "C:\\Users\\kevin\\AppData\\Local\\Temp\\ipykernel_18120\\4077439092.py:70: UserWarning: This pattern is interpreted as a regular expression, and has match groups. To actually get the groups, use str.extract.\n",
      "  m_total = row_text.str.contains(r\"(^|\\s)total(\\s|:|$)\", regex=True)\n"
     ]
    },
    {
     "name": "stdout",
     "output_type": "stream",
     "text": [
      "Descargando: VIOLENCIA INTRAFAMILIAR -> https://www.policia.gov.co/sites/default/files/delitos-impacto/violencia_intrafamiliar_10.xls\n"
     ]
    },
    {
     "name": "stderr",
     "output_type": "stream",
     "text": [
      "C:\\Users\\kevin\\AppData\\Local\\Temp\\ipykernel_18120\\4077439092.py:70: UserWarning: This pattern is interpreted as a regular expression, and has match groups. To actually get the groups, use str.extract.\n",
      "  m_total = row_text.str.contains(r\"(^|\\s)total(\\s|:|$)\", regex=True)\n"
     ]
    },
    {
     "name": "stdout",
     "output_type": "stream",
     "text": [
      "Descargando: VIOLENCIA INTRAFAMILIAR -> https://www.policia.gov.co/sites/default/files/delitos-impacto/violencia_intrafamiliar_2020.xls_0.xlsx\n"
     ]
    },
    {
     "name": "stderr",
     "output_type": "stream",
     "text": [
      "C:\\Users\\kevin\\AppData\\Local\\Temp\\ipykernel_18120\\4077439092.py:70: UserWarning: This pattern is interpreted as a regular expression, and has match groups. To actually get the groups, use str.extract.\n",
      "  m_total = row_text.str.contains(r\"(^|\\s)total(\\s|:|$)\", regex=True)\n"
     ]
    },
    {
     "name": "stdout",
     "output_type": "stream",
     "text": [
      "Descargando: VIOLENCIA INTRAFAMILIAR -> https://www.policia.gov.co/sites/default/files/delitos-impacto/violencia_intrafamiliar_2019_0.xlsx\n"
     ]
    },
    {
     "name": "stderr",
     "output_type": "stream",
     "text": [
      "C:\\Users\\kevin\\AppData\\Local\\Temp\\ipykernel_18120\\4077439092.py:70: UserWarning: This pattern is interpreted as a regular expression, and has match groups. To actually get the groups, use str.extract.\n",
      "  m_total = row_text.str.contains(r\"(^|\\s)total(\\s|:|$)\", regex=True)\n"
     ]
    },
    {
     "name": "stdout",
     "output_type": "stream",
     "text": [
      "Descargando: VIOLENCIA INTRAFAMILIAR -> https://www.policia.gov.co/sites/default/files/delitos-impacto/violencia_intrafamiliar_2018_1.xlsx\n"
     ]
    },
    {
     "name": "stderr",
     "output_type": "stream",
     "text": [
      "C:\\Users\\kevin\\AppData\\Local\\Temp\\ipykernel_18120\\4077439092.py:70: UserWarning: This pattern is interpreted as a regular expression, and has match groups. To actually get the groups, use str.extract.\n",
      "  m_total = row_text.str.contains(r\"(^|\\s)total(\\s|:|$)\", regex=True)\n"
     ]
    },
    {
     "name": "stdout",
     "output_type": "stream",
     "text": [
      "Descargando: VIOLENCIA INTRAFAMILIAR -> https://www.policia.gov.co/sites/default/files/delitos-impacto/violencia_intrafamiliar_2018_0.xlsx\n"
     ]
    },
    {
     "name": "stderr",
     "output_type": "stream",
     "text": [
      "C:\\Users\\kevin\\AppData\\Local\\Temp\\ipykernel_18120\\4077439092.py:70: UserWarning: This pattern is interpreted as a regular expression, and has match groups. To actually get the groups, use str.extract.\n",
      "  m_total = row_text.str.contains(r\"(^|\\s)total(\\s|:|$)\", regex=True)\n"
     ]
    },
    {
     "name": "stdout",
     "output_type": "stream",
     "text": [
      "\n",
      "=== RESUMEN DATASET TOTAL ===\n",
      "Filas: 3443357  Columnas: 10\n",
      "\n",
      "Tipos de datos:\n",
      " departamento            object\n",
      "municipio               object\n",
      "codigo_dane             object\n",
      "arma_medio              object\n",
      "fecha_hecho             object\n",
      "genero                  object\n",
      "agrupa_edad_persona     object\n",
      "cantidad               float64\n",
      "ANIO                     int64\n",
      "DELITO                  object\n",
      "dtype: object\n",
      "\n",
      "Primeras filas:\n",
      "   departamento      municipio codigo_dane                   arma_medio  \\\n",
      "0    ANTIOQUIA          Amagá   5030000.0  ARMA BLANCA / CORTOPUNZANTE   \n",
      "1    ANTIOQUIA        Barbosa   5079000.0  ARMA BLANCA / CORTOPUNZANTE   \n",
      "2    ANTIOQUIA          Maceo   5425000.0  ARMA BLANCA / CORTOPUNZANTE   \n",
      "3    ANTIOQUIA          Maceo   5425000.0  ARMA BLANCA / CORTOPUNZANTE   \n",
      "4    ANTIOQUIA  Puerto Berrío   5579000.0  ARMA BLANCA / CORTOPUNZANTE   \n",
      "\n",
      "           fecha_hecho     genero agrupa_edad_persona  cantidad  ANIO  \\\n",
      "0  2024-10-18 00:00:00  MASCULINO             ADULTOS       1.0  2024   \n",
      "1  2024-11-22 00:00:00  MASCULINO             ADULTOS       1.0  2024   \n",
      "2  2024-02-16 00:00:00  MASCULINO             ADULTOS       1.0  2024   \n",
      "3  2024-07-11 00:00:00  MASCULINO             ADULTOS       1.0  2024   \n",
      "4  2024-03-25 00:00:00   FEMENINO             ADULTOS       1.0  2024   \n",
      "\n",
      "     DELITO  \n",
      "0  ABIGEATO  \n",
      "1  ABIGEATO  \n",
      "2  ABIGEATO  \n",
      "3  ABIGEATO  \n",
      "4  ABIGEATO  \n",
      "\n",
      "Archivo guardado: delitos_unificado.csv\n"
     ]
    }
   ],
   "source": [
    "import re, io, unicodedata, requests, pandas as pd\n",
    "import numpy as np\n",
    "\n",
    "# ---------- Utilidades ----------\n",
    "def normalize_colnames(cols):\n",
    "    out = []\n",
    "    for c in cols:\n",
    "        c = str(c)\n",
    "        c = ''.join(ch for ch in unicodedata.normalize('NFKD', c) if not unicodedata.combining(ch))\n",
    "        c = re.sub(r'\\s+', ' ', c).strip().lower()\n",
    "        c = re.sub(r'[^a-z0-9]+', '_', c)\n",
    "        c = re.sub(r'_+', '_', c).strip('_')\n",
    "        out.append(c)\n",
    "    return out\n",
    "\n",
    "# Sinónimos hacia nombres estándar\n",
    "SYN_MAP = {\n",
    "    r\"^(depto|dep|departamento|dpto)$\": \"departamento\",\n",
    "    r\"^(municipio|ciudad|mpio|municpio|munici?p[io])$\": \"municipio\",  # tolera typos\n",
    "    r\"^(codigo_dane|cod_dane|codigo_dane_municipio|codigodane|coddane)$\": \"codigo_dane\",\n",
    "    r\"^(arma_s?_?medios?|armas?_?medios?|arma|medio|armamedio|arma_emple.*)$\": \"arma_medio\",\n",
    "    r\"^(fecha|fecha_hecho|fecha_del_hecho|fec_hecho)$\": \"fecha_hecho\",\n",
    "    r\"^(genero|sexo)$\": \"genero\",\n",
    "    r\"^(agrupa_edad_persona|grupo_edad|rango_edad|edad_grupo|grupo_etario|agrupa_edad)$\": \"agrupa_edad_persona\",\n",
    "    r\"^(cantidad|total|nro_casos|num_casos|casos)$\": \"cantidad\",\n",
    "}\n",
    "\n",
    "# Columnas finales que queremos conservar\n",
    "STANDARD_ORDER = [\n",
    "    \"departamento\",\"municipio\",\"codigo_dane\",\n",
    "    \"arma_medio\",\"fecha_hecho\",\"genero\",\n",
    "    \"agrupa_edad_persona\",\"cantidad\",\"ANIO\",\"DELITO\"\n",
    "]\n",
    "\n",
    "def fetch_excel(url: str) -> bytes:\n",
    "    r = requests.get(url, timeout=90)\n",
    "    r.raise_for_status()\n",
    "    return r.content\n",
    "\n",
    "def detect_header_row(pre_df: pd.DataFrame, max_scan_rows: int = 40) -> int:\n",
    "    keys = [\"depart\",\"munic\",\"codigo\",\"dane\",\"arma\",\"medio\",\"fecha\",\"genero\",\"sexo\",\"edad\",\"agrupa\",\"cantidad\",\"total\"]\n",
    "    best_row, best_hits = 0, -1\n",
    "    for i in range(min(max_scan_rows, len(pre_df))):\n",
    "        row = pre_df.iloc[i].astype(str).fillna(\"\").tolist()\n",
    "        text = \" | \".join(row).lower()\n",
    "        hits = sum(k in text for k in keys)\n",
    "        if hits > best_hits:\n",
    "            best_hits = hits\n",
    "            best_row = i\n",
    "    return best_row\n",
    "\n",
    "def read_excel_smart(content: bytes, url: str) -> pd.DataFrame:\n",
    "    # Leer unas filas sin header para detectar\n",
    "    pre = pd.read_excel(io.BytesIO(content), header=None, nrows=60, engine=None)\n",
    "    hdr = detect_header_row(pre)\n",
    "    try:\n",
    "        df = pd.read_excel(io.BytesIO(content), header=hdr, engine=None)\n",
    "    except Exception:\n",
    "        ext = url.lower().split(\"?\")[0]\n",
    "        engine = \"xlrd\" if ext.endswith(\".xls\") else None\n",
    "        df = pd.read_excel(io.BytesIO(content), header=hdr, engine=engine)\n",
    "    df = df.loc[:, ~df.columns.astype(str).duplicated()]\n",
    "    return df\n",
    "\n",
    "# --- NUEVO: cortar pie desde 'TOTAL' (incluyéndolo) ---\n",
    "def cut_footer_strict(df: pd.DataFrame) -> pd.DataFrame:\n",
    "    # Texto por fila\n",
    "    row_text = df.fillna(\"\").astype(str).agg(\" \".join, axis=1).str.lower()\n",
    "    # 1) buscar 'TOTAL' exacto o con ':' o espacio\n",
    "    m_total = row_text.str.contains(r\"(^|\\s)total(\\s|:|$)\", regex=True)\n",
    "    idx = np.where(m_total.values)[0]\n",
    "    cut_at = int(idx[0]) if len(idx) > 0 else None\n",
    "    # 2) si no hay 'TOTAL', cortar en otros triggers típicos\n",
    "    if cut_at is None:\n",
    "        m_trig = row_text.str.contains(r\"(fuente|siedco|dijin|elaborado:|revisado:|autorizado:)\")\n",
    "        idx2 = np.where(m_trig.values)[0]\n",
    "        if len(idx2) > 0:\n",
    "            cut_at = int(idx2[0])\n",
    "    if cut_at is not None:\n",
    "        df = df.iloc[:cut_at, :].copy()\n",
    "    # quitar filas totalmente vacías\n",
    "    return df.replace(r\"^\\s*$\", pd.NA, regex=True).dropna(how=\"all\")\n",
    "\n",
    "def apply_synonyms(df: pd.DataFrame) -> pd.DataFrame:\n",
    "    cols = normalize_colnames(df.columns)\n",
    "    df = df.copy()\n",
    "    df.columns = cols\n",
    "    mapped = []\n",
    "    for c in df.columns:\n",
    "        m = None\n",
    "        for patt, tgt in SYN_MAP.items():\n",
    "            if re.fullmatch(patt, c):\n",
    "                m = tgt; break\n",
    "        mapped.append(m if m else c)\n",
    "    df.columns = mapped\n",
    "    return df\n",
    "\n",
    "def add_year_and_delito(df: pd.DataFrame, url: str, delito: str) -> pd.DataFrame:\n",
    "    df = df.copy()\n",
    "    yrs = re.findall(r\"(20\\d{2})\", url)\n",
    "    if yrs:\n",
    "        df[\"ANIO\"] = int(yrs[-1])\n",
    "    elif \"fecha_hecho\" in df.columns:\n",
    "        fechas = pd.to_datetime(df[\"fecha_hecho\"], errors=\"coerce\", dayfirst=True)\n",
    "        df[\"ANIO\"] = fechas.dt.year\n",
    "    else:\n",
    "        df[\"ANIO\"] = pd.NA\n",
    "    df[\"DELITO\"] = delito.upper()\n",
    "    return df\n",
    "\n",
    "# --- NUEVO: eliminar columnas ruido y dejar solo estándar + DELITO ---\n",
    "def drop_noise_columns(df: pd.DataFrame) -> pd.DataFrame:\n",
    "    # eliminar 'unnamed_*'\n",
    "    df = df.loc[:, ~df.columns.str.match(r\"^unnamed_\\d+$\", case=False)].copy()\n",
    "    # eliminar columnas totalmente vacías\n",
    "    empty_cols = [c for c in df.columns if df[c].isna().all() or (df[c].astype(str).str.strip() == \"\").all()]\n",
    "    df.drop(columns=empty_cols, inplace=True, errors=\"ignore\")\n",
    "    # eliminar columnas de origen llamadas 'delito' o 'delitos' (pero conservar la nuestra 'DELITO')\n",
    "    drop_src = [c for c in df.columns if c.lower() in (\"delito\", \"delitos\") and c != \"DELITO\"]\n",
    "    df.drop(columns=drop_src, inplace=True, errors=\"ignore\")\n",
    "    # ordenar y limitar a las columnas estándar existentes\n",
    "    keep_existing = [c for c in STANDARD_ORDER if c in df.columns]\n",
    "    return df[keep_existing]\n",
    "\n",
    "# ---------- Todas las URLs por delito ----------\n",
    "delitos = {\n",
    "    \"ABIGEATO\": [\n",
    "        \"https://www.policia.gov.co/sites/default/files/delitos-impacto/Hurto%20a%20cabezas%20de%20ganado2024_0.xlsx\",\n",
    "        \"https://www.policia.gov.co/sites/default/files/delitos-impacto/hurto%20cabezas%20de%20ganado.._0.xlsx\",\n",
    "        \"https://www.policia.gov.co/sites/default/files/delitos-impacto/abigeato.xls_2.xlsx\",\n",
    "        \"https://www.policia.gov.co/sites/default/files/delitos-impacto/abigeato_6.xls\",\n",
    "        \"https://www.policia.gov.co/sites/default/files/delitos-impacto/abigeato_2020.xls\",\n",
    "        \"https://www.policia.gov.co/sites/default/files/delitos-impacto/abigeato_2019_3.xlsx\",\n",
    "        \"https://www.policia.gov.co/sites/default/files/delitos-impacto/abigeato_2018_2.xlsx\",\n",
    "    ],\n",
    "    \"AMENAZAS\": [\n",
    "        \"https://www.policia.gov.co/sites/default/files/delitos-impacto/Amenazas2024_0.xlsx\",\n",
    "        \"https://www.policia.gov.co/sites/default/files/delitos-impacto/amenzas..xlsx\",\n",
    "        \"https://www.policia.gov.co/sites/default/files/delitos-impacto/amenazas_13.xls\",\n",
    "        \"https://www.policia.gov.co/sites/default/files/delitos-impacto/amenazas_11.xls\",\n",
    "        \"https://www.policia.gov.co/sites/default/files/delitos-impacto/amenazas_2020.xlsx\",\n",
    "        \"https://www.policia.gov.co/sites/default/files/delitos-impacto/amenazas_2019_1.xlsx\",\n",
    "        \"https://www.policia.gov.co/sites/default/files/delitos-impacto/amenazas_2018_1.xlsx\",\n",
    "    ],\n",
    "    \"DELITOS SEXUALES\": [\n",
    "        \"https://www.policia.gov.co/sites/default/files/delitos-impacto/Delitos%20sexuales2024_0.xlsx\",\n",
    "        \"https://www.policia.gov.co/sites/default/files/delitos-impacto/delitos%20sexuales.xlsx\",\n",
    "        \"https://www.policia.gov.co/sites/default/files/delitos-impacto/delitos_sexuales_11.xls\",\n",
    "        \"https://www.policia.gov.co/sites/default/files/delitos-impacto/delitos_sexuales_9.xls\",\n",
    "        \"https://www.policia.gov.co/sites/default/files/delitos-impacto/delitos_sexuales_2020.xls\",\n",
    "        \"https://www.policia.gov.co/sites/default/files/delitos-impacto/delitos_sexuales_2019_0.xlsx\",\n",
    "        \"https://www.policia.gov.co/sites/default/files/delitos-impacto/delitos_sexuales_2018_0.xlsx\",\n",
    "    ],\n",
    "    \"EXTORSION\": [\n",
    "        \"https://www.policia.gov.co/sites/default/files/delitos-impacto/Extorsi%C3%B3n2024_0.xlsx\",\n",
    "        \"https://www.policia.gov.co/sites/default/files/delitos-impacto/extorsion_11.xlsx\",\n",
    "        \"https://www.policia.gov.co/sites/default/files/delitos-impacto/extorsion_11.xls\",\n",
    "        \"https://www.policia.gov.co/sites/default/files/delitos-impacto/extorsion_9.xls\",\n",
    "        \"https://www.policia.gov.co/sites/default/files/delitos-impacto/extorsion_2020_1.xls\",\n",
    "        \"https://www.policia.gov.co/sites/default/files/delitos-impacto/extorsion_2019_2.xlsx\",\n",
    "        \"https://www.policia.gov.co/sites/default/files/delitos-impacto/extorsion_2018_3.xlsx\",\n",
    "    ],\n",
    "    \"HOMICIDIOS\": [\n",
    "        \"https://www.policia.gov.co/sites/default/files/delitos-impacto/Homicidio%20Intencional2024_0.xlsx\",\n",
    "        \"https://www.policia.gov.co/sites/default/files/delitos-impacto/homicidio%20intencional_0.xlsx\",\n",
    "        \"https://www.policia.gov.co/sites/default/files/delitos-impacto/Homicidio%20Intencional%202022.xlsx\",\n",
    "        \"https://www.policia.gov.co/sites/default/files/delitos-impacto/homicidios2022.xls\",\n",
    "        \"https://www.policia.gov.co/sites/default/files/delitos-impacto/Homicidio%20Intencional%202021.xlsx\",\n",
    "        \"https://www.policia.gov.co/sites/default/files/delitos-impacto/Homicidio%20Intencional%202020.xlsx\",\n",
    "        \"https://www.policia.gov.co/sites/default/files/delitos-impacto/Homicidio%20Intencional%202019.xlsx\",\n",
    "        \"https://www.policia.gov.co/sites/default/files/delitos-impacto/Homicidio%20Intencional%202018.xlsx\",\n",
    "    ],\n",
    "    \"HOMICIDIOS EN ACCIDENTES DE TRANSITO\": [\n",
    "        \"https://www.policia.gov.co/sites/default/files/delitos-impacto/Homicidios%20en%20accidente%20de%20tr%C3%A1nsito2024_0.xlsx\",\n",
    "        \"https://www.policia.gov.co/sites/default/files/delitos-impacto/homicidios%20en%20accidente%20de%20transito....xlsx\",\n",
    "        \"https://www.policia.gov.co/sites/default/files/delitos-impacto/homicidios_en_accidente_de_transito_11.xls\",\n",
    "        \"https://www.policia.gov.co/sites/default/files/delitos-impacto/homicidios_en_accidente_de_transito_9.xls\",\n",
    "        \"https://www.policia.gov.co/sites/default/files/delitos-impacto/homicidios_accidente_de_transito_2020_2.xls\",\n",
    "        \"https://www.policia.gov.co/sites/default/files/delitos-impacto/homicidios_en_accidente_de_transito_2019.xlsx\",\n",
    "        \"https://www.policia.gov.co/sites/default/files/delitos-impacto/homicidios_en_accidente_de_transito_2018_1.xlsx\",\n",
    "    ],\n",
    "    \"HURTO A PERSONAS\": [\n",
    "        \"https://www.policia.gov.co/sites/default/files/delitos-impacto/Hurto%20a%20personas2024_0.xlsx\",\n",
    "        \"https://www.policia.gov.co/sites/default/files/delitos-impacto/hurto%20a%20personas.xlsx\",\n",
    "        \"https://www.policia.gov.co/sites/default/files/delitos-impacto/hurto_a_personas_17.xlsx\",\n",
    "        \"https://www.policia.gov.co/sites/default/files/delitos-impacto/hurto_a_personas_9.xlsx\",\n",
    "        \"https://www.policia.gov.co/sites/default/files/delitos-impacto/hurto_personas_2020_0.xlsx\",\n",
    "        \"https://www.policia.gov.co/sites/default/files/delitos-impacto/hurto_a_personas_2019_0.xlsx\",\n",
    "        \"https://www.policia.gov.co/sites/default/files/delitos-impacto/hurto_a_personas_2018_1.xlsx\",\n",
    "    ],\n",
    "    \"HURTO A RESIDENCIAS\": [\n",
    "        \"https://www.policia.gov.co/sites/default/files/delitos-impacto/Hurto%20a%20residencias2024_0.xlsx\",\n",
    "        \"https://www.policia.gov.co/sites/default/files/delitos-impacto/hurto%20a%20residencias....xlsx\",\n",
    "        \"https://www.policia.gov.co/sites/default/files/delitos-impacto/hurto_a_residencias_4.xls\",\n",
    "        \"https://www.policia.gov.co/sites/default/files/delitos-impacto/hurto_a_residencias_5.xlsx\",\n",
    "        \"https://www.policia.gov.co/sites/default/files/delitos-impacto/hurto_residencias_2020.xls\",\n",
    "        \"https://www.policia.gov.co/sites/default/files/delitos-impacto/hurto_a_residencias_2019_0.xlsx\",\n",
    "        \"https://www.policia.gov.co/sites/default/files/delitos-impacto/hurto_a_residencias_2018_1.xlsx\",\n",
    "    ],\n",
    "    \"HURTO DE AUTOMOTORES\": [\n",
    "        \"https://www.policia.gov.co/sites/default/files/delitos-impacto/Hurto%20automotores2024_0.xlsx\",\n",
    "        \"https://www.policia.gov.co/sites/default/files/delitos-impacto/hurto%20automotores....xlsx\",\n",
    "        \"https://www.policia.gov.co/sites/default/files/delitos-impacto/hurto_automotores_4.xls\",\n",
    "        \"https://www.policia.gov.co/sites/default/files/delitos-impacto/hurto_automotores_5.xlsx\",\n",
    "        \"https://www.policia.gov.co/sites/default/files/delitos-impacto/hurto_automotores_2020_1.xls\",\n",
    "        \"https://www.policia.gov.co/sites/default/files/delitos-impacto/hurto_automotores_2019_0.xlsx\",\n",
    "        \"https://www.policia.gov.co/sites/default/files/delitos-impacto/hurto_automotores_2018_1.xlsx\",\n",
    "        \"https://www.policia.gov.co/sites/default/files/delitos-impacto/hurto_automotores_2018_2.xlsx\",\n",
    "    ],\n",
    "    \"HURTO DE MOTOCICLETAS\": [\n",
    "        \"https://www.policia.gov.co/sites/default/files/delitos-impacto/Hurto%20a%20motocicletas2024_0.xlsx\",\n",
    "        \"https://www.policia.gov.co/sites/default/files/delitos-impacto/hurto%20a%20motocicletas....xlsx\",\n",
    "        \"https://www.policia.gov.co/sites/default/files/delitos-impacto/hurto_a_motocicletas_7.xls\",\n",
    "        \"https://www.policia.gov.co/sites/default/files/delitos-impacto/hurto_a_motocicletas_5.xls\",\n",
    "        \"https://www.policia.gov.co/sites/default/files/delitos-impacto/hurto_a_motocicletas_2020.xls\",\n",
    "        \"https://www.policia.gov.co/sites/default/files/delitos-impacto/hurto_motocicletas_2019_0.xlsx\",\n",
    "        \"https://www.policia.gov.co/sites/default/files/delitos-impacto/hurto_motocicletas_2018_0.xlsx\",\n",
    "    ],\n",
    "    \"HURTOS A ENTIDADES COMERCIALES\": [\n",
    "        \"https://www.policia.gov.co/sites/default/files/delitos-impacto/Hurto%20a%20comercio2024_0.xlsx\",\n",
    "        \"https://www.policia.gov.co/sites/default/files/delitos-impacto/hurto%20a%20comercio..._0.xlsx\",\n",
    "        \"https://www.policia.gov.co/sites/default/files/delitos-impacto/hurto_a_comercio_11.xls\",\n",
    "        \"https://www.policia.gov.co/sites/default/files/delitos-impacto/hurto_a_comercio_9.xls\",\n",
    "        \"https://www.policia.gov.co/sites/default/files/delitos-impacto/hurto_a_comercio_2020.xls\",\n",
    "        \"https://www.policia.gov.co/sites/default/files/delitos-impacto/hurto_a_comercio_2019_0.xlsx\",\n",
    "        \"https://www.policia.gov.co/sites/default/files/delitos-impacto/hurto_a_comercio_2018_1.xlsx\",\n",
    "        \"https://www.policia.gov.co/sites/default/files/delitos-impacto/hurto_motocicletas_2018_0.xlsx\",\n",
    "    ],\n",
    "    \"HURTOS A ENTIDADES FINANCIERAS\": [\n",
    "        \"https://www.policia.gov.co/sites/default/files/delitos-impacto/Hurto%20a%20entidades%20Financieras2024_0.xlsx\",\n",
    "        \"https://www.policia.gov.co/sites/default/files/delitos-impacto/hurto%20entidades%20financieras.xlsx\",\n",
    "        \"https://www.policia.gov.co/sites/default/files/delitos-impacto/hurto_entidades_financieras_11.xls\",\n",
    "        \"https://www.policia.gov.co/sites/default/files/delitos-impacto/hurto_entidades_financieras_9.xls\",\n",
    "        \"https://www.policia.gov.co/sites/default/files/delitos-impacto/hurto_entidades_financieras_2020.xls\",\n",
    "        \"https://www.policia.gov.co/sites/default/files/delitos-impacto/hurto_a_entidades_financieras_2019_3.xlsx\",\n",
    "        \"https://www.policia.gov.co/sites/default/files/delitos-impacto/hurto_a_entidades_financieras_2018_0.xlsx\",\n",
    "        \"https://www.policia.gov.co/sites/default/files/delitos-impacto/hurto_a_entidades_financieras_2018_3.xlsx\",\n",
    "    ],\n",
    "    \"LESIONES EN ACCIDENTES DE TRANSITO\": [\n",
    "        \"https://www.policia.gov.co/sites/default/files/delitos-impacto/Lesiones%20en%20accidente%20de%20tr%C3%A1nsito2024_2.xlsx\",\n",
    "        \"https://www.policia.gov.co/sites/default/files/delitos-impacto/lesiones%20en%20accidente%20de%20transito....xlsx\",\n",
    "        \"https://www.policia.gov.co/sites/default/files/delitos-impacto/lesiones_en_accidente_de_transito_7.xlsx\",\n",
    "        \"https://www.policia.gov.co/sites/default/files/delitos-impacto/lesiones_en_accidente_de_transito_5.xls\",\n",
    "        \"https://www.policia.gov.co/sites/default/files/delitos-impacto/lesiones_en_accidente_de_transito_2020_1.xls\",\n",
    "        \"https://www.policia.gov.co/sites/default/files/delitos-impacto/lesiones_en_accidente_de_transito_2019_0.xlsx\",\n",
    "        \"https://www.policia.gov.co/sites/default/files/delitos-impacto/lesiones_en_accidente_de_transito_2018_1.xlsx\",\n",
    "        \"https://www.policia.gov.co/sites/default/files/delitos-impacto/lesiones_en_accidente_de_transito_2018_0.xlsx\",\n",
    "    ],\n",
    "    \"LESIONES PERSONALES\": [\n",
    "        \"https://www.policia.gov.co/sites/default/files/delitos-impacto/Lesiones%20personales2024_0.xlsx\",\n",
    "        \"https://www.policia.gov.co/sites/default/files/delitos-impacto/lesiones%20personales..._0.xlsx\",\n",
    "        \"https://www.policia.gov.co/sites/default/files/delitos-impacto/lesiones_personales_0.xlsx\",\n",
    "        \"https://www.policia.gov.co/sites/default/files/delitos-impacto/lesiones_personales_5.xls\",\n",
    "        \"https://www.policia.gov.co/sites/default/files/delitos-impacto/lesiones_personales_2020.xlsx\",\n",
    "        \"https://www.policia.gov.co/sites/default/files/delitos-impacto/lesiones_personales_2019_0.xlsx\",\n",
    "        \"https://www.policia.gov.co/sites/default/files/delitos-impacto/lesiones_personales_2018_0.xlsx\",\n",
    "    ],\n",
    "    \"PIRATERIA TERRESTRE\": [\n",
    "        \"https://www.policia.gov.co/sites/default/files/delitos-impacto/Hurto%20pirater%C3%ADa%20terrestre2024_0.xlsx\",\n",
    "        \"https://www.policia.gov.co/sites/default/files/delitos-impacto/hurto%20pirateria%20terrestre_1.xlsx\",\n",
    "        \"https://www.policia.gov.co/sites/default/files/delitos-impacto/hurto_a_pirateria_terrestre_11.xls\",\n",
    "        \"https://www.policia.gov.co/sites/default/files/delitos-impacto/hurto_a_pirateria_terrestre_9.xls\",\n",
    "        \"https://www.policia.gov.co/sites/default/files/delitos-impacto/pirateria_terrestre_2020_1.xls\",\n",
    "        \"https://www.policia.gov.co/sites/default/files/delitos-impacto/hurto_entidades_financieras_2020_0.xls\",\n",
    "        \"https://www.policia.gov.co/sites/default/files/delitos-impacto/pirateria_terrestre_2019_3.xlsx\",\n",
    "        \"https://www.policia.gov.co/sites/default/files/delitos-impacto/pirateria_terrestre_2018_2.xlsx\",\n",
    "        \"https://www.policia.gov.co/sites/default/files/delitos-impacto/pirateria_terrestre_2018_1.xlsx\",\n",
    "    ],\n",
    "    \"SECUESTRO\": [\n",
    "        \"https://www.policia.gov.co/sites/default/files/delitos-impacto/Secuestro2024_0.xlsx\",\n",
    "        \"https://www.policia.gov.co/sites/default/files/delitos-impacto/secuestro..._0.xlsx\",\n",
    "        \"https://www.policia.gov.co/sites/default/files/delitos-impacto/secuestro_11.xls\",\n",
    "        \"https://www.policia.gov.co/sites/default/files/delitos-impacto/secuestro_9.xls\",\n",
    "        \"https://www.policia.gov.co/sites/default/files/delitos-impacto/secuestro_2020.xls\",\n",
    "        \"https://www.policia.gov.co/sites/default/files/delitos-impacto/secuestro_2019_3.xlsx\",\n",
    "        \"https://www.policia.gov.co/sites/default/files/delitos-impacto/secuestro_2018_3.xlsx\",\n",
    "        \"https://www.policia.gov.co/sites/default/files/delitos-impacto/secuestro_2018_2.xlsx\",\n",
    "    ],\n",
    "    \"TERRORISMO\": [\n",
    "        \"https://www.policia.gov.co/sites/default/files/delitos-impacto/Terrorismo2024_0.xlsx\",\n",
    "        \"https://www.policia.gov.co/sites/default/files/delitos-impacto/terrorismo_4.xlsx\",\n",
    "        \"https://www.policia.gov.co/sites/default/files/delitos-impacto/terrorismo_11.xls\",\n",
    "        \"https://www.policia.gov.co/sites/default/files/delitos-impacto/terrorismo_9.xls\",\n",
    "        \"https://www.policia.gov.co/sites/default/files/delitos-impacto/terrorismo_2020_1.xls\",\n",
    "        \"https://www.policia.gov.co/sites/default/files/delitos-impacto/terrorismo_2020_0.xls\",\n",
    "        \"https://www.policia.gov.co/sites/default/files/delitos-impacto/terrorismo_2019_2.xlsx\",\n",
    "        \"https://www.policia.gov.co/sites/default/files/delitos-impacto/terrorismo_2018_2.xlsx\",\n",
    "        \"https://www.policia.gov.co/sites/default/files/delitos-impacto/terrorismo_2018_0.xlsx\",\n",
    "    ],\n",
    "    \"VIOLENCIA INTRAFAMILIAR\": [\n",
    "        \"https://www.policia.gov.co/sites/default/files/delitos-impacto/Violencia%20intrafamiliar2024_0.xlsx\",\n",
    "        \"https://www.policia.gov.co/sites/default/files/delitos-impacto/violencia%20intrafamiliar....xlsx\",\n",
    "        \"https://www.policia.gov.co/sites/default/files/delitos-impacto/violencia_intrafamiliar_12.xls\",\n",
    "        \"https://www.policia.gov.co/sites/default/files/delitos-impacto/violencia_intrafamiliar_10.xls\",\n",
    "        \"https://www.policia.gov.co/sites/default/files/delitos-impacto/violencia_intrafamiliar_2020.xls_0.xlsx\",\n",
    "        \"https://www.policia.gov.co/sites/default/files/delitos-impacto/violencia_intrafamiliar_2019_0.xlsx\",\n",
    "        \"https://www.policia.gov.co/sites/default/files/delitos-impacto/violencia_intrafamiliar_2018_1.xlsx\",\n",
    "        \"https://www.policia.gov.co/sites/default/files/delitos-impacto/violencia_intrafamiliar_2018_0.xlsx\",\n",
    "    ],\n",
    "}\n",
    "\n",
    "# ---------- Procesamiento ----------\n",
    "frames = []\n",
    "for delito, urls in delitos.items():\n",
    "    for url in urls:\n",
    "        try:\n",
    "            print(f\"Descargando: {delito} -> {url}\")\n",
    "            content = fetch_excel(url)\n",
    "            df = read_excel_smart(content, url)\n",
    "            df = cut_footer_strict(df)             # <<< CORTA pie desde TOTAL\n",
    "            df = apply_synonyms(df)                # <<< Normaliza nombres\n",
    "            df = add_year_and_delito(df, url, delito)  # <<< Añade ANIO y DELITO\n",
    "            if \"cantidad\" in df.columns:\n",
    "                df[\"cantidad\"] = pd.to_numeric(df[\"cantidad\"], errors=\"coerce\")\n",
    "            df = drop_noise_columns(df)            # <<< Quita ruido y deja solo estándar + DELITO\n",
    "            frames.append(df)\n",
    "        except Exception as e:\n",
    "            print(f\"** Error con {url}: {e}\")\n",
    "\n",
    "if frames:\n",
    "    data_delitos = pd.concat(frames, ignore_index=True).dropna(how=\"all\")\n",
    "    print(\"\\n=== RESUMEN DATASET TOTAL ===\")\n",
    "    print(\"Filas:\", data_delitos.shape[0], \" Columnas:\", data_delitos.shape[1])\n",
    "    print(\"\\nTipos de datos:\\n\", data_delitos.dtypes)\n",
    "    print(\"\\nPrimeras filas:\\n\", data_delitos.head(5))\n",
    "    # Guardar CSV\n",
    "    data_delitos.to_csv(\"delitos_unificado.csv\", index=False, encoding=\"utf-8-sig\")\n",
    "    print('\\nArchivo guardado: delitos_unificado.csv')\n",
    "else:\n",
    "    print(\"No se pudo construir el dataset combinado (todas las lecturas fallaron).\")\n"
   ]
  },
  {
   "cell_type": "markdown",
   "id": "19c3b6d1",
   "metadata": {},
   "source": [
    "# Mirar variables "
   ]
  },
  {
   "cell_type": "code",
   "execution_count": 4,
   "id": "df40d893",
   "metadata": {},
   "outputs": [
    {
     "name": "stdout",
     "output_type": "stream",
     "text": [
      "=== Conteo RAW (sin normalizar) ===\n",
      "departamento\n",
      "CUNDINAMARCA                   711064\n",
      "ANTIOQUIA                      434739\n",
      "VALLE                          343847\n",
      "SANTANDER                      193990\n",
      "ATLÁNTICO                      150581\n",
      "TOLIMA                         132684\n",
      "CAUCA                          118236\n",
      "BOLÍVAR                        117481\n",
      "META                           111660\n",
      "HUILA                          110697\n",
      "BOYACÁ                         107389\n",
      "NARIÑO                         106554\n",
      "NORTE DE SANTANDER              95576\n",
      "CESAR                           88364\n",
      "MAGDALENA                       76384\n",
      "RISARALDA                       75609\n",
      "CÓRDOBA                         73136\n",
      "CALDAS                          57531\n",
      "SUCRE                           50937\n",
      "QUINDÍO                         49093\n",
      "GUAJIRA                         42341\n",
      "CASANARE                        40680\n",
      "CAQUETÁ                         29692\n",
      "CHOCÓ                           24884\n",
      "SIN EMPLEO DE ARMAS             22477\n",
      "PUTUMAYO                        20849\n",
      "ARAUCA                          18909\n",
      "SAN ANDRÉS                       8873\n",
      "GUAVIARE                         7961\n",
      "CONTUNDENTES                     5518\n",
      "AMAZONAS                         4873\n",
      "VICHADA                          3216\n",
      "GUAINÍA                          3070\n",
      "VAUPÉS                           2111\n",
      "ARMA BLANCA / CORTOPUNZANTE      1520\n",
      "ESCOPOLAMINA                      633\n",
      "ARMA DE FUEGO                     111\n",
      "CINTAS/CINTURON                    61\n",
      "NO REPORTADO                       19\n",
      "ESPOSAS                             4\n",
      "NO REGISTRA                         3\n"
     ]
    }
   ],
   "source": [
    "import pandas as pd, unicodedata, re\n",
    "\n",
    "# Cargar\n",
    "df = pd.read_csv(\"delitos_unificado.csv\", low_memory=False)\n",
    "\n",
    "# 1) Conteo tal cual vienen en la columna\n",
    "print(\"=== Conteo RAW (sin normalizar) ===\")\n",
    "raw_counts = (df[\"departamento\"]\n",
    "              .astype(str)\n",
    "              .value_counts(dropna=True))\n",
    "print(raw_counts.to_string())"
   ]
  },
  {
   "cell_type": "code",
   "execution_count": 6,
   "id": "cb48240c",
   "metadata": {},
   "outputs": [
    {
     "name": "stdout",
     "output_type": "stream",
     "text": [
      "Filas corregidas por cruce departamento↔arma_medio: 27513\n",
      "✅ Archivo actualizado en sitio: delitos_unificado.csv\n",
      "\n",
      "Top 15 departamentos (después de limpiar):\n",
      "departamento\n",
      "CUNDINAMARCA          716993\n",
      "ANTIOQUIA             439138\n",
      "VALLE DEL CAUCA       343847\n",
      "SANTANDER             195594\n",
      "ATLÁNTICO             151849\n",
      "TOLIMA                133920\n",
      "CAUCA                 118982\n",
      "BOLÍVAR               118740\n",
      "META                  112614\n",
      "HUILA                 111676\n",
      "BOYACÁ                108295\n",
      "NARIÑO                107388\n",
      "NORTE DE SANTANDER     96302\n",
      "CESAR                  89200\n",
      "MAGDALENA              77151\n"
     ]
    }
   ],
   "source": [
    "import pandas as pd, re, unicodedata\n",
    "\n",
    "# --- 1) Cargar ---\n",
    "csv_path = \"delitos_unificado.csv\"\n",
    "df = pd.read_csv(csv_path, low_memory=False)\n",
    "\n",
    "# --- 2) Helpers ---\n",
    "def norm(s):\n",
    "    if pd.isna(s): return \"\"\n",
    "    s = str(s).upper().strip()\n",
    "    s = \"\".join(ch for ch in unicodedata.normalize(\"NFKD\", s) if not unicodedata.combining(ch))\n",
    "    s = re.sub(r\"[^\\w\\s]\", \" \", s)\n",
    "    s = re.sub(r\"\\s+\", \" \", s).strip()\n",
    "    return s\n",
    "\n",
    "DEPT_SET = {\n",
    "    \"AMAZONAS\",\"ANTIOQUIA\",\"ARAUCA\",\"ATLANTICO\",\"BOLIVAR\",\"BOYACA\",\"CALDAS\",\"CAQUETA\",\"CASANARE\",\"CAUCA\",\n",
    "    \"CESAR\",\"CHOCO\",\"CORDOBA\",\"CUNDINAMARCA\",\"GUAINIA\",\"GUAVIARE\",\"HUILA\",\"LA GUAJIRA\",\"MAGDALENA\",\"META\",\n",
    "    \"NARINO\",\"NORTE DE SANTANDER\",\"PUTUMAYO\",\"QUINDIO\",\"RISARALDA\",\"SAN ANDRES\",\"SANTANDER\",\"SUCRE\",\"TOLIMA\",\n",
    "    \"VALLE DEL CAUCA\",\"VAUPES\",\"VICHADA\",\"BOGOTA\",\"BOGOTA DC\",\"BOGOTA D C\",\"ARCHIPIELAGO DE SAN ANDRES\"\n",
    "}\n",
    "\n",
    "ARMA_PAT = re.compile(\n",
    "    r\"ARMA|FUEGO|BLANCA|CORTO|PUNZ|CONTUND|ESCOPOL|VENEN|QUIMI|GAS|OBJETO|ARTEFACTO|SUSTANCIA|\"\n",
    "    r\"SIN EMPLEO|NO REPORT|CINTA|ESPOSA\", re.IGNORECASE\n",
    ")\n",
    "\n",
    "# --- 3) Swap departamento <-> arma_medio donde aplique ---\n",
    "if {\"departamento\",\"arma_medio\"}.issubset(df.columns):\n",
    "    dep_norm = df[\"departamento\"].map(norm)\n",
    "    arma_norm = df[\"arma_medio\"].map(norm)\n",
    "    mask_swap = dep_norm.str.contains(ARMA_PAT, na=False) & arma_norm.isin(DEPT_SET)\n",
    "    n_swapped = int(mask_swap.sum())\n",
    "    if n_swapped:\n",
    "        tmp = df.loc[mask_swap, \"departamento\"].copy()\n",
    "        df.loc[mask_swap, \"departamento\"] = df.loc[mask_swap, \"arma_medio\"]\n",
    "        df.loc[mask_swap, \"arma_medio\"] = tmp\n",
    "    print(f\"Filas corregidas por cruce departamento↔arma_medio: {n_swapped}\")\n",
    "else:\n",
    "    print(\"⚠️ No se encontraron ambas columnas 'departamento' y 'arma_medio'.\")\n",
    "\n",
    "# --- 4) Estandarizar nombres de DEPARTAMENTO (con acentos) ---\n",
    "CANON = {\n",
    "    \"AMAZONAS\":\"AMAZONAS\",\"ANTIOQUIA\":\"ANTIOQUIA\",\"ARAUCA\":\"ARAUCA\",\"ATLANTICO\":\"ATLÁNTICO\",\n",
    "    \"BOLIVAR\":\"BOLÍVAR\",\"BOYACA\":\"BOYACÁ\",\"CALDAS\":\"CALDAS\",\"CAQUETA\":\"CAQUETÁ\",\"CASANARE\":\"CASANARE\",\n",
    "    \"CAUCA\":\"CAUCA\",\"CESAR\":\"CESAR\",\"CHOCO\":\"CHOCÓ\",\"CORDOBA\":\"CÓRDOBA\",\"CUNDINAMARCA\":\"CUNDINAMARCA\",\n",
    "    \"GUAINIA\":\"GUAINÍA\",\"GUAVIARE\":\"GUAVIARE\",\"HUILA\":\"HUILA\",\"LA GUAJIRA\":\"LA GUAJIRA\",\"MAGDALENA\":\"MAGDALENA\",\n",
    "    \"META\":\"META\",\"NARINO\":\"NARIÑO\",\"NORTE DE SANTANDER\":\"NORTE DE SANTANDER\",\"PUTUMAYO\":\"PUTUMAYO\",\n",
    "    \"QUINDIO\":\"QUINDÍO\",\"RISARALDA\":\"RISARALDA\",\"SAN ANDRES\":\"SAN ANDRÉS\",\"SANTANDER\":\"SANTANDER\",\n",
    "    \"SUCRE\":\"SUCRE\",\"TOLIMA\":\"TOLIMA\",\"VALLE DEL CAUCA\":\"VALLE DEL CAUCA\",\"VAUPES\":\"VAUPÉS\",\"VICHADA\":\"VICHADA\",\n",
    "    \"BOGOTA\":\"BOGOTÁ D.C.\",\"BOGOTA DC\":\"BOGOTÁ D.C.\",\"BOGOTA D C\":\"BOGOTÁ D.C.\",\n",
    "    \"ARCHIPIELAGO DE SAN ANDRES\":\"SAN ANDRÉS\"\n",
    "}\n",
    "ALIAS = {\n",
    "    \"VALLE\":\"VALLE DEL CAUCA\",\n",
    "    \"ATLANTICO\":\"ATLANTICO\",\"BOLIVAR\":\"BOLIVAR\",\"CORDOBA\":\"CORDOBA\",\"QUINDIO\":\"QUINDIO\",\"CHOCO\":\"CHOCO\",\n",
    "    \"NARINO\":\"NARINO\",\"GUAINIA\":\"GUAINIA\",\"VAUPES\":\"VAUPES\"\n",
    "}\n",
    "\n",
    "def canon_dep(val):\n",
    "    k = norm(val)\n",
    "    if k in ALIAS: k = ALIAS[k]\n",
    "    return CANON.get(k, val if pd.notna(val) else val)\n",
    "\n",
    "if \"departamento\" in df.columns:\n",
    "    df[\"departamento\"] = df[\"departamento\"].map(canon_dep)\n",
    "\n",
    "# --- 5) Guardar SOBRE EL MISMO ARCHIVO ---\n",
    "df.to_csv(csv_path, index=False, encoding=\"utf-8-sig\")\n",
    "print(f\"✅ Archivo actualizado en sitio: {csv_path}\")\n",
    "\n",
    "# (Opcional) Mostrar un pequeño resumen\n",
    "if \"departamento\" in df.columns:\n",
    "    print(\"\\nTop 15 departamentos (después de limpiar):\")\n",
    "    print(df[\"departamento\"].value_counts().head(15).to_string())\n"
   ]
  }
 ],
 "metadata": {
  "kernelspec": {
   "display_name": "base",
   "language": "python",
   "name": "python3"
  },
  "language_info": {
   "codemirror_mode": {
    "name": "ipython",
    "version": 3
   },
   "file_extension": ".py",
   "mimetype": "text/x-python",
   "name": "python",
   "nbconvert_exporter": "python",
   "pygments_lexer": "ipython3",
   "version": "3.13.2"
  }
 },
 "nbformat": 4,
 "nbformat_minor": 5
}
